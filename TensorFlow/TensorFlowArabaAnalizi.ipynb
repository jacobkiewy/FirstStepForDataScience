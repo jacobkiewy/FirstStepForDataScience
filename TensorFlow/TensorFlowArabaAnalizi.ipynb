{
 "cells": [
  {
   "cell_type": "code",
   "execution_count": 1,
   "id": "225104dc",
   "metadata": {},
   "outputs": [],
   "source": [
    "import numpy as np\n",
    "import pandas as pd\n",
    "import matplotlib.pyplot as plt\n",
    "import tensorflow as tf\n",
    "import seaborn as sbn"
   ]
  },
  {
   "cell_type": "code",
   "execution_count": 2,
   "id": "f4eff770",
   "metadata": {},
   "outputs": [],
   "source": [
    "dataFrame = pd.DataFrame(pd.read_excel(\"merc.xlsx\")) "
   ]
  },
  {
   "cell_type": "code",
   "execution_count": 3,
   "id": "8990d18e",
   "metadata": {},
   "outputs": [
    {
     "data": {
      "text/html": [
       "<div>\n",
       "<style scoped>\n",
       "    .dataframe tbody tr th:only-of-type {\n",
       "        vertical-align: middle;\n",
       "    }\n",
       "\n",
       "    .dataframe tbody tr th {\n",
       "        vertical-align: top;\n",
       "    }\n",
       "\n",
       "    .dataframe thead th {\n",
       "        text-align: right;\n",
       "    }\n",
       "</style>\n",
       "<table border=\"1\" class=\"dataframe\">\n",
       "  <thead>\n",
       "    <tr style=\"text-align: right;\">\n",
       "      <th></th>\n",
       "      <th>year</th>\n",
       "      <th>price</th>\n",
       "      <th>transmission</th>\n",
       "      <th>mileage</th>\n",
       "      <th>tax</th>\n",
       "      <th>mpg</th>\n",
       "      <th>engineSize</th>\n",
       "    </tr>\n",
       "  </thead>\n",
       "  <tbody>\n",
       "    <tr>\n",
       "      <th>0</th>\n",
       "      <td>2005</td>\n",
       "      <td>5200</td>\n",
       "      <td>Automatic</td>\n",
       "      <td>63000</td>\n",
       "      <td>325</td>\n",
       "      <td>32.1</td>\n",
       "      <td>1.8</td>\n",
       "    </tr>\n",
       "    <tr>\n",
       "      <th>1</th>\n",
       "      <td>2017</td>\n",
       "      <td>34948</td>\n",
       "      <td>Automatic</td>\n",
       "      <td>27000</td>\n",
       "      <td>20</td>\n",
       "      <td>61.4</td>\n",
       "      <td>2.1</td>\n",
       "    </tr>\n",
       "    <tr>\n",
       "      <th>2</th>\n",
       "      <td>2016</td>\n",
       "      <td>49948</td>\n",
       "      <td>Automatic</td>\n",
       "      <td>6200</td>\n",
       "      <td>555</td>\n",
       "      <td>28.0</td>\n",
       "      <td>5.5</td>\n",
       "    </tr>\n",
       "    <tr>\n",
       "      <th>3</th>\n",
       "      <td>2016</td>\n",
       "      <td>61948</td>\n",
       "      <td>Automatic</td>\n",
       "      <td>16000</td>\n",
       "      <td>325</td>\n",
       "      <td>30.4</td>\n",
       "      <td>4.0</td>\n",
       "    </tr>\n",
       "    <tr>\n",
       "      <th>4</th>\n",
       "      <td>2016</td>\n",
       "      <td>73948</td>\n",
       "      <td>Automatic</td>\n",
       "      <td>4000</td>\n",
       "      <td>325</td>\n",
       "      <td>30.1</td>\n",
       "      <td>4.0</td>\n",
       "    </tr>\n",
       "  </tbody>\n",
       "</table>\n",
       "</div>"
      ],
      "text/plain": [
       "   year  price transmission  mileage  tax   mpg  engineSize\n",
       "0  2005   5200    Automatic    63000  325  32.1         1.8\n",
       "1  2017  34948    Automatic    27000   20  61.4         2.1\n",
       "2  2016  49948    Automatic     6200  555  28.0         5.5\n",
       "3  2016  61948    Automatic    16000  325  30.4         4.0\n",
       "4  2016  73948    Automatic     4000  325  30.1         4.0"
      ]
     },
     "execution_count": 3,
     "metadata": {},
     "output_type": "execute_result"
    }
   ],
   "source": [
    "dataFrame.head()"
   ]
  },
  {
   "cell_type": "code",
   "execution_count": 4,
   "id": "51e82691",
   "metadata": {},
   "outputs": [
    {
     "data": {
      "text/html": [
       "<div>\n",
       "<style scoped>\n",
       "    .dataframe tbody tr th:only-of-type {\n",
       "        vertical-align: middle;\n",
       "    }\n",
       "\n",
       "    .dataframe tbody tr th {\n",
       "        vertical-align: top;\n",
       "    }\n",
       "\n",
       "    .dataframe thead th {\n",
       "        text-align: right;\n",
       "    }\n",
       "</style>\n",
       "<table border=\"1\" class=\"dataframe\">\n",
       "  <thead>\n",
       "    <tr style=\"text-align: right;\">\n",
       "      <th></th>\n",
       "      <th>year</th>\n",
       "      <th>price</th>\n",
       "      <th>mileage</th>\n",
       "      <th>tax</th>\n",
       "      <th>mpg</th>\n",
       "      <th>engineSize</th>\n",
       "    </tr>\n",
       "  </thead>\n",
       "  <tbody>\n",
       "    <tr>\n",
       "      <th>count</th>\n",
       "      <td>13119.000000</td>\n",
       "      <td>13119.000000</td>\n",
       "      <td>13119.000000</td>\n",
       "      <td>13119.000000</td>\n",
       "      <td>13119.000000</td>\n",
       "      <td>13119.000000</td>\n",
       "    </tr>\n",
       "    <tr>\n",
       "      <th>mean</th>\n",
       "      <td>2017.296288</td>\n",
       "      <td>24698.596920</td>\n",
       "      <td>21949.559037</td>\n",
       "      <td>129.972178</td>\n",
       "      <td>55.155843</td>\n",
       "      <td>2.071530</td>\n",
       "    </tr>\n",
       "    <tr>\n",
       "      <th>std</th>\n",
       "      <td>2.224709</td>\n",
       "      <td>11842.675542</td>\n",
       "      <td>21176.512267</td>\n",
       "      <td>65.260286</td>\n",
       "      <td>15.220082</td>\n",
       "      <td>0.572426</td>\n",
       "    </tr>\n",
       "    <tr>\n",
       "      <th>min</th>\n",
       "      <td>1970.000000</td>\n",
       "      <td>650.000000</td>\n",
       "      <td>1.000000</td>\n",
       "      <td>0.000000</td>\n",
       "      <td>1.100000</td>\n",
       "      <td>0.000000</td>\n",
       "    </tr>\n",
       "    <tr>\n",
       "      <th>25%</th>\n",
       "      <td>2016.000000</td>\n",
       "      <td>17450.000000</td>\n",
       "      <td>6097.500000</td>\n",
       "      <td>125.000000</td>\n",
       "      <td>45.600000</td>\n",
       "      <td>1.800000</td>\n",
       "    </tr>\n",
       "    <tr>\n",
       "      <th>50%</th>\n",
       "      <td>2018.000000</td>\n",
       "      <td>22480.000000</td>\n",
       "      <td>15189.000000</td>\n",
       "      <td>145.000000</td>\n",
       "      <td>56.500000</td>\n",
       "      <td>2.000000</td>\n",
       "    </tr>\n",
       "    <tr>\n",
       "      <th>75%</th>\n",
       "      <td>2019.000000</td>\n",
       "      <td>28980.000000</td>\n",
       "      <td>31779.500000</td>\n",
       "      <td>145.000000</td>\n",
       "      <td>64.200000</td>\n",
       "      <td>2.100000</td>\n",
       "    </tr>\n",
       "    <tr>\n",
       "      <th>max</th>\n",
       "      <td>2020.000000</td>\n",
       "      <td>159999.000000</td>\n",
       "      <td>259000.000000</td>\n",
       "      <td>580.000000</td>\n",
       "      <td>217.300000</td>\n",
       "      <td>6.200000</td>\n",
       "    </tr>\n",
       "  </tbody>\n",
       "</table>\n",
       "</div>"
      ],
      "text/plain": [
       "               year          price        mileage           tax           mpg  \\\n",
       "count  13119.000000   13119.000000   13119.000000  13119.000000  13119.000000   \n",
       "mean    2017.296288   24698.596920   21949.559037    129.972178     55.155843   \n",
       "std        2.224709   11842.675542   21176.512267     65.260286     15.220082   \n",
       "min     1970.000000     650.000000       1.000000      0.000000      1.100000   \n",
       "25%     2016.000000   17450.000000    6097.500000    125.000000     45.600000   \n",
       "50%     2018.000000   22480.000000   15189.000000    145.000000     56.500000   \n",
       "75%     2019.000000   28980.000000   31779.500000    145.000000     64.200000   \n",
       "max     2020.000000  159999.000000  259000.000000    580.000000    217.300000   \n",
       "\n",
       "         engineSize  \n",
       "count  13119.000000  \n",
       "mean       2.071530  \n",
       "std        0.572426  \n",
       "min        0.000000  \n",
       "25%        1.800000  \n",
       "50%        2.000000  \n",
       "75%        2.100000  \n",
       "max        6.200000  "
      ]
     },
     "execution_count": 4,
     "metadata": {},
     "output_type": "execute_result"
    }
   ],
   "source": [
    "dataFrame.describe()"
   ]
  },
  {
   "cell_type": "code",
   "execution_count": 5,
   "id": "dfbdc84a",
   "metadata": {},
   "outputs": [
    {
     "data": {
      "text/plain": [
       "year            0\n",
       "price           0\n",
       "transmission    0\n",
       "mileage         0\n",
       "tax             0\n",
       "mpg             0\n",
       "engineSize      0\n",
       "dtype: int64"
      ]
     },
     "execution_count": 5,
     "metadata": {},
     "output_type": "execute_result"
    }
   ],
   "source": [
    "dataFrame.isnull().sum()"
   ]
  },
  {
   "cell_type": "code",
   "execution_count": 6,
   "id": "35cb11ef",
   "metadata": {},
   "outputs": [
    {
     "data": {
      "text/plain": [
       "<AxesSubplot:xlabel='price', ylabel='Count'>"
      ]
     },
     "execution_count": 6,
     "metadata": {},
     "output_type": "execute_result"
    },
    {
     "data": {
      "image/png": "[encoded data removed]",
      "text/plain": [
       "<Figure size 432x288 with 1 Axes>"
      ]
     },
     "metadata": {
      "needs_background": "light"
     },
     "output_type": "display_data"
    }
   ],
   "source": [
    "sbn.histplot(dataFrame[\"price\"])"
   ]
  },
  {
   "cell_type": "code",
   "execution_count": 7,
   "id": "5eac8c2e",
   "metadata": {},
   "outputs": [
    {
     "name": "stderr",
     "output_type": "stream",
     "text": [
      "C:\\ProgramData\\Anaconda3\\lib\\site-packages\\seaborn\\_decorators.py:36: FutureWarning: Pass the following variable as a keyword arg: x. From version 0.12, the only valid positional argument will be `data`, and passing other arguments without an explicit keyword will result in an error or misinterpretation.\n",
      "  warnings.warn(\n"
     ]
    },
    {
     "data": {
      "text/plain": [
       "<AxesSubplot:xlabel='year', ylabel='count'>"
      ]
     },
     "execution_count": 7,
     "metadata": {},
     "output_type": "execute_result"
    },
    {
     "data": {
      "image/png": "[encoded data removed]",
      "text/plain": [
       "<Figure size 936x360 with 1 Axes>"
      ]
     },
     "metadata": {
      "needs_background": "light"
     },
     "output_type": "display_data"
    }
   ],
   "source": [
    "plt.figure(figsize=(13,5))\n",
    "sbn.countplot(dataFrame[\"year\"])"
   ]
  },
  {
   "cell_type": "code",
   "execution_count": 8,
   "id": "78b5e7c4",
   "metadata": {},
   "outputs": [
    {
     "data": {
      "text/html": [
       "<div>\n",
       "<style scoped>\n",
       "    .dataframe tbody tr th:only-of-type {\n",
       "        vertical-align: middle;\n",
       "    }\n",
       "\n",
       "    .dataframe tbody tr th {\n",
       "        vertical-align: top;\n",
       "    }\n",
       "\n",
       "    .dataframe thead th {\n",
       "        text-align: right;\n",
       "    }\n",
       "</style>\n",
       "<table border=\"1\" class=\"dataframe\">\n",
       "  <thead>\n",
       "    <tr style=\"text-align: right;\">\n",
       "      <th></th>\n",
       "      <th>year</th>\n",
       "      <th>price</th>\n",
       "      <th>mileage</th>\n",
       "      <th>tax</th>\n",
       "      <th>mpg</th>\n",
       "      <th>engineSize</th>\n",
       "    </tr>\n",
       "  </thead>\n",
       "  <tbody>\n",
       "    <tr>\n",
       "      <th>year</th>\n",
       "      <td>1.000000</td>\n",
       "      <td>0.520712</td>\n",
       "      <td>-0.738027</td>\n",
       "      <td>0.012480</td>\n",
       "      <td>-0.094626</td>\n",
       "      <td>-0.142147</td>\n",
       "    </tr>\n",
       "    <tr>\n",
       "      <th>price</th>\n",
       "      <td>0.520712</td>\n",
       "      <td>1.000000</td>\n",
       "      <td>-0.537214</td>\n",
       "      <td>0.268717</td>\n",
       "      <td>-0.438445</td>\n",
       "      <td>0.516126</td>\n",
       "    </tr>\n",
       "    <tr>\n",
       "      <th>mileage</th>\n",
       "      <td>-0.738027</td>\n",
       "      <td>-0.537214</td>\n",
       "      <td>1.000000</td>\n",
       "      <td>-0.160223</td>\n",
       "      <td>0.202850</td>\n",
       "      <td>0.063652</td>\n",
       "    </tr>\n",
       "    <tr>\n",
       "      <th>tax</th>\n",
       "      <td>0.012480</td>\n",
       "      <td>0.268717</td>\n",
       "      <td>-0.160223</td>\n",
       "      <td>1.000000</td>\n",
       "      <td>-0.513742</td>\n",
       "      <td>0.338341</td>\n",
       "    </tr>\n",
       "    <tr>\n",
       "      <th>mpg</th>\n",
       "      <td>-0.094626</td>\n",
       "      <td>-0.438445</td>\n",
       "      <td>0.202850</td>\n",
       "      <td>-0.513742</td>\n",
       "      <td>1.000000</td>\n",
       "      <td>-0.339862</td>\n",
       "    </tr>\n",
       "    <tr>\n",
       "      <th>engineSize</th>\n",
       "      <td>-0.142147</td>\n",
       "      <td>0.516126</td>\n",
       "      <td>0.063652</td>\n",
       "      <td>0.338341</td>\n",
       "      <td>-0.339862</td>\n",
       "      <td>1.000000</td>\n",
       "    </tr>\n",
       "  </tbody>\n",
       "</table>\n",
       "</div>"
      ],
      "text/plain": [
       "                year     price   mileage       tax       mpg  engineSize\n",
       "year        1.000000  0.520712 -0.738027  0.012480 -0.094626   -0.142147\n",
       "price       0.520712  1.000000 -0.537214  0.268717 -0.438445    0.516126\n",
       "mileage    -0.738027 -0.537214  1.000000 -0.160223  0.202850    0.063652\n",
       "tax         0.012480  0.268717 -0.160223  1.000000 -0.513742    0.338341\n",
       "mpg        -0.094626 -0.438445  0.202850 -0.513742  1.000000   -0.339862\n",
       "engineSize -0.142147  0.516126  0.063652  0.338341 -0.339862    1.000000"
      ]
     },
     "execution_count": 8,
     "metadata": {},
     "output_type": "execute_result"
    }
   ],
   "source": [
    "dataFrame.corr()"
   ]
  },
  {
   "cell_type": "code",
   "execution_count": 9,
   "id": "92650d53",
   "metadata": {},
   "outputs": [
    {
     "data": {
      "text/plain": [
       "mileage      -0.537214\n",
       "mpg          -0.438445\n",
       "tax           0.268717\n",
       "engineSize    0.516126\n",
       "year          0.520712\n",
       "price         1.000000\n",
       "Name: price, dtype: float64"
      ]
     },
     "execution_count": 9,
     "metadata": {},
     "output_type": "execute_result"
    }
   ],
   "source": [
    "dataFrame.corr()[\"price\"].sort_values()"
   ]
  },
  {
   "cell_type": "code",
   "execution_count": 10,
   "id": "2cb0976d",
   "metadata": {},
   "outputs": [
    {
     "data": {
      "text/plain": [
       "<AxesSubplot:xlabel='mileage', ylabel='price'>"
      ]
     },
     "execution_count": 10,
     "metadata": {},
     "output_type": "execute_result"
    },
    {
     "data": {
      "image/png": "[encoded data removed]",
      "text/plain": [
       "<Figure size 432x288 with 1 Axes>"
      ]
     },
     "metadata": {
      "needs_background": "light"
     },
     "output_type": "display_data"
    }
   ],
   "source": [
    "sbn.scatterplot(x=\"mileage\",y=\"price\",data=dataFrame)"
   ]
  },
  {
   "cell_type": "code",
   "execution_count": 11,
   "id": "f255fa93",
   "metadata": {},
   "outputs": [
    {
     "data": {
      "text/html": [
       "<div>\n",
       "<style scoped>\n",
       "    .dataframe tbody tr th:only-of-type {\n",
       "        vertical-align: middle;\n",
       "    }\n",
       "\n",
       "    .dataframe tbody tr th {\n",
       "        vertical-align: top;\n",
       "    }\n",
       "\n",
       "    .dataframe thead th {\n",
       "        text-align: right;\n",
       "    }\n",
       "</style>\n",
       "<table border=\"1\" class=\"dataframe\">\n",
       "  <thead>\n",
       "    <tr style=\"text-align: right;\">\n",
       "      <th></th>\n",
       "      <th>year</th>\n",
       "      <th>price</th>\n",
       "      <th>transmission</th>\n",
       "      <th>mileage</th>\n",
       "      <th>tax</th>\n",
       "      <th>mpg</th>\n",
       "      <th>engineSize</th>\n",
       "    </tr>\n",
       "  </thead>\n",
       "  <tbody>\n",
       "    <tr>\n",
       "      <th>6199</th>\n",
       "      <td>2020</td>\n",
       "      <td>159999</td>\n",
       "      <td>Semi-Auto</td>\n",
       "      <td>1350</td>\n",
       "      <td>145</td>\n",
       "      <td>21.4</td>\n",
       "      <td>4.0</td>\n",
       "    </tr>\n",
       "    <tr>\n",
       "      <th>10044</th>\n",
       "      <td>2020</td>\n",
       "      <td>154998</td>\n",
       "      <td>Automatic</td>\n",
       "      <td>3000</td>\n",
       "      <td>150</td>\n",
       "      <td>21.4</td>\n",
       "      <td>4.0</td>\n",
       "    </tr>\n",
       "    <tr>\n",
       "      <th>5</th>\n",
       "      <td>2011</td>\n",
       "      <td>149948</td>\n",
       "      <td>Automatic</td>\n",
       "      <td>3000</td>\n",
       "      <td>570</td>\n",
       "      <td>21.4</td>\n",
       "      <td>6.2</td>\n",
       "    </tr>\n",
       "    <tr>\n",
       "      <th>8737</th>\n",
       "      <td>2019</td>\n",
       "      <td>140319</td>\n",
       "      <td>Semi-Auto</td>\n",
       "      <td>785</td>\n",
       "      <td>150</td>\n",
       "      <td>22.1</td>\n",
       "      <td>4.0</td>\n",
       "    </tr>\n",
       "    <tr>\n",
       "      <th>6386</th>\n",
       "      <td>2018</td>\n",
       "      <td>139995</td>\n",
       "      <td>Semi-Auto</td>\n",
       "      <td>13046</td>\n",
       "      <td>145</td>\n",
       "      <td>21.4</td>\n",
       "      <td>4.0</td>\n",
       "    </tr>\n",
       "    <tr>\n",
       "      <th>8</th>\n",
       "      <td>2019</td>\n",
       "      <td>139948</td>\n",
       "      <td>Automatic</td>\n",
       "      <td>12000</td>\n",
       "      <td>145</td>\n",
       "      <td>21.4</td>\n",
       "      <td>4.0</td>\n",
       "    </tr>\n",
       "    <tr>\n",
       "      <th>9133</th>\n",
       "      <td>2019</td>\n",
       "      <td>139559</td>\n",
       "      <td>Semi-Auto</td>\n",
       "      <td>1000</td>\n",
       "      <td>145</td>\n",
       "      <td>22.1</td>\n",
       "      <td>4.0</td>\n",
       "    </tr>\n",
       "    <tr>\n",
       "      <th>8821</th>\n",
       "      <td>2020</td>\n",
       "      <td>138439</td>\n",
       "      <td>Semi-Auto</td>\n",
       "      <td>1000</td>\n",
       "      <td>145</td>\n",
       "      <td>22.1</td>\n",
       "      <td>4.0</td>\n",
       "    </tr>\n",
       "    <tr>\n",
       "      <th>5902</th>\n",
       "      <td>2018</td>\n",
       "      <td>135771</td>\n",
       "      <td>Semi-Auto</td>\n",
       "      <td>19000</td>\n",
       "      <td>145</td>\n",
       "      <td>21.4</td>\n",
       "      <td>4.0</td>\n",
       "    </tr>\n",
       "    <tr>\n",
       "      <th>7864</th>\n",
       "      <td>2018</td>\n",
       "      <td>135124</td>\n",
       "      <td>Semi-Auto</td>\n",
       "      <td>18234</td>\n",
       "      <td>150</td>\n",
       "      <td>21.4</td>\n",
       "      <td>4.0</td>\n",
       "    </tr>\n",
       "    <tr>\n",
       "      <th>8673</th>\n",
       "      <td>2019</td>\n",
       "      <td>134219</td>\n",
       "      <td>Semi-Auto</td>\n",
       "      <td>1000</td>\n",
       "      <td>145</td>\n",
       "      <td>24.8</td>\n",
       "      <td>4.0</td>\n",
       "    </tr>\n",
       "    <tr>\n",
       "      <th>6210</th>\n",
       "      <td>2019</td>\n",
       "      <td>129990</td>\n",
       "      <td>Automatic</td>\n",
       "      <td>1000</td>\n",
       "      <td>145</td>\n",
       "      <td>24.8</td>\n",
       "      <td>4.0</td>\n",
       "    </tr>\n",
       "    <tr>\n",
       "      <th>4759</th>\n",
       "      <td>2019</td>\n",
       "      <td>126000</td>\n",
       "      <td>Automatic</td>\n",
       "      <td>250</td>\n",
       "      <td>145</td>\n",
       "      <td>24.6</td>\n",
       "      <td>4.0</td>\n",
       "    </tr>\n",
       "    <tr>\n",
       "      <th>2647</th>\n",
       "      <td>2019</td>\n",
       "      <td>125796</td>\n",
       "      <td>Automatic</td>\n",
       "      <td>637</td>\n",
       "      <td>145</td>\n",
       "      <td>24.8</td>\n",
       "      <td>4.0</td>\n",
       "    </tr>\n",
       "    <tr>\n",
       "      <th>6223</th>\n",
       "      <td>2019</td>\n",
       "      <td>124999</td>\n",
       "      <td>Automatic</td>\n",
       "      <td>1500</td>\n",
       "      <td>145</td>\n",
       "      <td>31.7</td>\n",
       "      <td>4.0</td>\n",
       "    </tr>\n",
       "    <tr>\n",
       "      <th>4094</th>\n",
       "      <td>2019</td>\n",
       "      <td>124366</td>\n",
       "      <td>Semi-Auto</td>\n",
       "      <td>880</td>\n",
       "      <td>145</td>\n",
       "      <td>24.8</td>\n",
       "      <td>4.0</td>\n",
       "    </tr>\n",
       "    <tr>\n",
       "      <th>2629</th>\n",
       "      <td>2019</td>\n",
       "      <td>123846</td>\n",
       "      <td>Semi-Auto</td>\n",
       "      <td>2951</td>\n",
       "      <td>145</td>\n",
       "      <td>22.1</td>\n",
       "      <td>4.0</td>\n",
       "    </tr>\n",
       "    <tr>\n",
       "      <th>7134</th>\n",
       "      <td>2019</td>\n",
       "      <td>115359</td>\n",
       "      <td>Semi-Auto</td>\n",
       "      <td>1000</td>\n",
       "      <td>145</td>\n",
       "      <td>30.1</td>\n",
       "      <td>4.0</td>\n",
       "    </tr>\n",
       "    <tr>\n",
       "      <th>9159</th>\n",
       "      <td>2019</td>\n",
       "      <td>114199</td>\n",
       "      <td>Semi-Auto</td>\n",
       "      <td>891</td>\n",
       "      <td>145</td>\n",
       "      <td>22.6</td>\n",
       "      <td>4.0</td>\n",
       "    </tr>\n",
       "    <tr>\n",
       "      <th>1980</th>\n",
       "      <td>2019</td>\n",
       "      <td>109995</td>\n",
       "      <td>Semi-Auto</td>\n",
       "      <td>4688</td>\n",
       "      <td>150</td>\n",
       "      <td>31.7</td>\n",
       "      <td>4.0</td>\n",
       "    </tr>\n",
       "  </tbody>\n",
       "</table>\n",
       "</div>"
      ],
      "text/plain": [
       "       year   price transmission  mileage  tax   mpg  engineSize\n",
       "6199   2020  159999    Semi-Auto     1350  145  21.4         4.0\n",
       "10044  2020  154998    Automatic     3000  150  21.4         4.0\n",
       "5      2011  149948    Automatic     3000  570  21.4         6.2\n",
       "8737   2019  140319    Semi-Auto      785  150  22.1         4.0\n",
       "6386   2018  139995    Semi-Auto    13046  145  21.4         4.0\n",
       "8      2019  139948    Automatic    12000  145  21.4         4.0\n",
       "9133   2019  139559    Semi-Auto     1000  145  22.1         4.0\n",
       "8821   2020  138439    Semi-Auto     1000  145  22.1         4.0\n",
       "5902   2018  135771    Semi-Auto    19000  145  21.4         4.0\n",
       "7864   2018  135124    Semi-Auto    18234  150  21.4         4.0\n",
       "8673   2019  134219    Semi-Auto     1000  145  24.8         4.0\n",
       "6210   2019  129990    Automatic     1000  145  24.8         4.0\n",
       "4759   2019  126000    Automatic      250  145  24.6         4.0\n",
       "2647   2019  125796    Automatic      637  145  24.8         4.0\n",
       "6223   2019  124999    Automatic     1500  145  31.7         4.0\n",
       "4094   2019  124366    Semi-Auto      880  145  24.8         4.0\n",
       "2629   2019  123846    Semi-Auto     2951  145  22.1         4.0\n",
       "7134   2019  115359    Semi-Auto     1000  145  30.1         4.0\n",
       "9159   2019  114199    Semi-Auto      891  145  22.6         4.0\n",
       "1980   2019  109995    Semi-Auto     4688  150  31.7         4.0"
      ]
     },
     "execution_count": 11,
     "metadata": {},
     "output_type": "execute_result"
    }
   ],
   "source": [
    "dataFrame.sort_values(\"price\",ascending=False).head(20)"
   ]
  },
  {
   "cell_type": "code",
   "execution_count": 12,
   "id": "eda73c6c",
   "metadata": {},
   "outputs": [
    {
     "data": {
      "text/plain": [
       "13119"
      ]
     },
     "execution_count": 12,
     "metadata": {},
     "output_type": "execute_result"
    }
   ],
   "source": [
    "len(dataFrame)"
   ]
  },
  {
   "cell_type": "code",
   "execution_count": 13,
   "id": "46ab357b",
   "metadata": {},
   "outputs": [
    {
     "data": {
      "text/plain": [
       "131.19"
      ]
     },
     "execution_count": 13,
     "metadata": {},
     "output_type": "execute_result"
    }
   ],
   "source": [
    "len(dataFrame) * 0.01"
   ]
  },
  {
   "cell_type": "code",
   "execution_count": 14,
   "id": "bb7a35d1",
   "metadata": {},
   "outputs": [],
   "source": [
    "yuzdeDoksanDokuzDf = dataFrame.sort_values(\"price\",ascending=False).iloc[131:]"
   ]
  },
  {
   "cell_type": "code",
   "execution_count": 15,
   "id": "6bf3ae2f",
   "metadata": {},
   "outputs": [
    {
     "data": {
      "text/html": [
       "<div>\n",
       "<style scoped>\n",
       "    .dataframe tbody tr th:only-of-type {\n",
       "        vertical-align: middle;\n",
       "    }\n",
       "\n",
       "    .dataframe tbody tr th {\n",
       "        vertical-align: top;\n",
       "    }\n",
       "\n",
       "    .dataframe thead th {\n",
       "        text-align: right;\n",
       "    }\n",
       "</style>\n",
       "<table border=\"1\" class=\"dataframe\">\n",
       "  <thead>\n",
       "    <tr style=\"text-align: right;\">\n",
       "      <th></th>\n",
       "      <th>year</th>\n",
       "      <th>price</th>\n",
       "      <th>mileage</th>\n",
       "      <th>tax</th>\n",
       "      <th>mpg</th>\n",
       "      <th>engineSize</th>\n",
       "    </tr>\n",
       "  </thead>\n",
       "  <tbody>\n",
       "    <tr>\n",
       "      <th>count</th>\n",
       "      <td>12988.000000</td>\n",
       "      <td>12988.000000</td>\n",
       "      <td>12988.000000</td>\n",
       "      <td>12988.000000</td>\n",
       "      <td>12988.000000</td>\n",
       "      <td>12988.000000</td>\n",
       "    </tr>\n",
       "    <tr>\n",
       "      <th>mean</th>\n",
       "      <td>2017.281876</td>\n",
       "      <td>24074.926933</td>\n",
       "      <td>22132.741146</td>\n",
       "      <td>129.689714</td>\n",
       "      <td>55.437142</td>\n",
       "      <td>2.050901</td>\n",
       "    </tr>\n",
       "    <tr>\n",
       "      <th>std</th>\n",
       "      <td>2.228515</td>\n",
       "      <td>9866.224575</td>\n",
       "      <td>21196.776401</td>\n",
       "      <td>65.183076</td>\n",
       "      <td>15.025999</td>\n",
       "      <td>0.532596</td>\n",
       "    </tr>\n",
       "    <tr>\n",
       "      <th>min</th>\n",
       "      <td>1970.000000</td>\n",
       "      <td>650.000000</td>\n",
       "      <td>1.000000</td>\n",
       "      <td>0.000000</td>\n",
       "      <td>1.100000</td>\n",
       "      <td>0.000000</td>\n",
       "    </tr>\n",
       "    <tr>\n",
       "      <th>25%</th>\n",
       "      <td>2016.000000</td>\n",
       "      <td>17357.500000</td>\n",
       "      <td>6322.000000</td>\n",
       "      <td>125.000000</td>\n",
       "      <td>45.600000</td>\n",
       "      <td>1.675000</td>\n",
       "    </tr>\n",
       "    <tr>\n",
       "      <th>50%</th>\n",
       "      <td>2018.000000</td>\n",
       "      <td>22299.000000</td>\n",
       "      <td>15369.500000</td>\n",
       "      <td>145.000000</td>\n",
       "      <td>56.500000</td>\n",
       "      <td>2.000000</td>\n",
       "    </tr>\n",
       "    <tr>\n",
       "      <th>75%</th>\n",
       "      <td>2019.000000</td>\n",
       "      <td>28706.000000</td>\n",
       "      <td>31982.250000</td>\n",
       "      <td>145.000000</td>\n",
       "      <td>64.200000</td>\n",
       "      <td>2.100000</td>\n",
       "    </tr>\n",
       "    <tr>\n",
       "      <th>max</th>\n",
       "      <td>2020.000000</td>\n",
       "      <td>65990.000000</td>\n",
       "      <td>259000.000000</td>\n",
       "      <td>580.000000</td>\n",
       "      <td>217.300000</td>\n",
       "      <td>6.200000</td>\n",
       "    </tr>\n",
       "  </tbody>\n",
       "</table>\n",
       "</div>"
      ],
      "text/plain": [
       "               year         price        mileage           tax           mpg  \\\n",
       "count  12988.000000  12988.000000   12988.000000  12988.000000  12988.000000   \n",
       "mean    2017.281876  24074.926933   22132.741146    129.689714     55.437142   \n",
       "std        2.228515   9866.224575   21196.776401     65.183076     15.025999   \n",
       "min     1970.000000    650.000000       1.000000      0.000000      1.100000   \n",
       "25%     2016.000000  17357.500000    6322.000000    125.000000     45.600000   \n",
       "50%     2018.000000  22299.000000   15369.500000    145.000000     56.500000   \n",
       "75%     2019.000000  28706.000000   31982.250000    145.000000     64.200000   \n",
       "max     2020.000000  65990.000000  259000.000000    580.000000    217.300000   \n",
       "\n",
       "         engineSize  \n",
       "count  12988.000000  \n",
       "mean       2.050901  \n",
       "std        0.532596  \n",
       "min        0.000000  \n",
       "25%        1.675000  \n",
       "50%        2.000000  \n",
       "75%        2.100000  \n",
       "max        6.200000  "
      ]
     },
     "execution_count": 15,
     "metadata": {},
     "output_type": "execute_result"
    }
   ],
   "source": [
    "yuzdeDoksanDokuzDf.describe()"
   ]
  },
  {
   "cell_type": "code",
   "execution_count": 16,
   "id": "2da8fcde",
   "metadata": {},
   "outputs": [
    {
     "data": {
      "text/plain": [
       "<AxesSubplot:xlabel='price', ylabel='Count'>"
      ]
     },
     "execution_count": 16,
     "metadata": {},
     "output_type": "execute_result"
    },
    {
     "data": {
      "image/png": "[encoded data removed]",
      "text/plain": [
       "<Figure size 504x360 with 1 Axes>"
      ]
     },
     "metadata": {
      "needs_background": "light"
     },
     "output_type": "display_data"
    }
   ],
   "source": [
    "plt.figure(figsize=(7,5))\n",
    "sbn.histplot(yuzdeDoksanDokuzDf[\"price\"])"
   ]
  },
  {
   "cell_type": "code",
   "execution_count": 17,
   "id": "eb087d9b",
   "metadata": {},
   "outputs": [
    {
     "data": {
      "text/plain": [
       "year\n",
       "1970    24999.000000\n",
       "1997     9995.000000\n",
       "1998     8605.000000\n",
       "1999     5995.000000\n",
       "2000     5743.333333\n",
       "2001     4957.900000\n",
       "2002     5820.444444\n",
       "2003     4878.000000\n",
       "2004     4727.615385\n",
       "2005     4426.111111\n",
       "2006     4036.875000\n",
       "2007     5136.045455\n",
       "2008     6967.437500\n",
       "2009     6166.764706\n",
       "2010     8308.473684\n",
       "2011    12624.894737\n",
       "2012    10845.140351\n",
       "2013    11939.842466\n",
       "2014    14042.936864\n",
       "2015    16731.780020\n",
       "2016    19307.892948\n",
       "2017    21514.307854\n",
       "2018    25720.162918\n",
       "2019    31290.020865\n",
       "2020    35433.282337\n",
       "Name: price, dtype: float64"
      ]
     },
     "execution_count": 17,
     "metadata": {},
     "output_type": "execute_result"
    }
   ],
   "source": [
    "dataFrame.groupby(\"year\").mean()[\"price\"]"
   ]
  },
  {
   "cell_type": "code",
   "execution_count": 18,
   "id": "15428a30",
   "metadata": {},
   "outputs": [
    {
     "data": {
      "text/plain": [
       "year\n",
       "1970    24999.000000\n",
       "1997     9995.000000\n",
       "1998     8605.000000\n",
       "1999     5995.000000\n",
       "2000     5743.333333\n",
       "2001     4957.900000\n",
       "2002     5820.444444\n",
       "2003     4878.000000\n",
       "2004     4727.615385\n",
       "2005     4426.111111\n",
       "2006     4036.875000\n",
       "2007     5136.045455\n",
       "2008     6967.437500\n",
       "2009     6166.764706\n",
       "2010     8308.473684\n",
       "2011     8913.459459\n",
       "2012    10845.140351\n",
       "2013    11939.842466\n",
       "2014    14042.936864\n",
       "2015    16647.822222\n",
       "2016    19223.558943\n",
       "2017    21356.280421\n",
       "2018    24800.844506\n",
       "2019    30289.524832\n",
       "2020    34234.794872\n",
       "Name: price, dtype: float64"
      ]
     },
     "execution_count": 18,
     "metadata": {},
     "output_type": "execute_result"
    }
   ],
   "source": [
    "yuzdeDoksanDokuzDf.groupby(\"year\").mean()[\"price\"]"
   ]
  },
  {
   "cell_type": "code",
   "execution_count": 19,
   "id": "b848b2de",
   "metadata": {},
   "outputs": [],
   "source": [
    "dataFrame = yuzdeDoksanDokuzDf"
   ]
  },
  {
   "cell_type": "code",
   "execution_count": 20,
   "id": "1454aed0",
   "metadata": {},
   "outputs": [],
   "source": [
    "dataFrame = dataFrame[dataFrame.year != 1970]"
   ]
  },
  {
   "cell_type": "code",
   "execution_count": 21,
   "id": "ae903249",
   "metadata": {},
   "outputs": [
    {
     "data": {
      "text/plain": [
       "11912    1997\n",
       "11860    1998\n",
       "11808    1998\n",
       "11764    1998\n",
       "11794    1998\n",
       "         ... \n",
       "5217     2020\n",
       "1947     2020\n",
       "9283     2020\n",
       "4105     2020\n",
       "6745     2020\n",
       "Name: year, Length: 12987, dtype: int64"
      ]
     },
     "execution_count": 21,
     "metadata": {},
     "output_type": "execute_result"
    }
   ],
   "source": [
    "dataFrame[\"year\"].sort_values()"
   ]
  },
  {
   "cell_type": "code",
   "execution_count": 22,
   "id": "51640a30",
   "metadata": {},
   "outputs": [
    {
     "data": {
      "text/html": [
       "<div>\n",
       "<style scoped>\n",
       "    .dataframe tbody tr th:only-of-type {\n",
       "        vertical-align: middle;\n",
       "    }\n",
       "\n",
       "    .dataframe tbody tr th {\n",
       "        vertical-align: top;\n",
       "    }\n",
       "\n",
       "    .dataframe thead th {\n",
       "        text-align: right;\n",
       "    }\n",
       "</style>\n",
       "<table border=\"1\" class=\"dataframe\">\n",
       "  <thead>\n",
       "    <tr style=\"text-align: right;\">\n",
       "      <th></th>\n",
       "      <th>year</th>\n",
       "      <th>price</th>\n",
       "      <th>transmission</th>\n",
       "      <th>mileage</th>\n",
       "      <th>tax</th>\n",
       "      <th>mpg</th>\n",
       "      <th>engineSize</th>\n",
       "    </tr>\n",
       "  </thead>\n",
       "  <tbody>\n",
       "    <tr>\n",
       "      <th>6177</th>\n",
       "      <td>2019</td>\n",
       "      <td>65990</td>\n",
       "      <td>Semi-Auto</td>\n",
       "      <td>5076</td>\n",
       "      <td>150</td>\n",
       "      <td>30.4</td>\n",
       "      <td>3.0</td>\n",
       "    </tr>\n",
       "    <tr>\n",
       "      <th>5779</th>\n",
       "      <td>2020</td>\n",
       "      <td>65990</td>\n",
       "      <td>Semi-Auto</td>\n",
       "      <td>999</td>\n",
       "      <td>145</td>\n",
       "      <td>28.0</td>\n",
       "      <td>4.0</td>\n",
       "    </tr>\n",
       "    <tr>\n",
       "      <th>3191</th>\n",
       "      <td>2020</td>\n",
       "      <td>65980</td>\n",
       "      <td>Semi-Auto</td>\n",
       "      <td>3999</td>\n",
       "      <td>145</td>\n",
       "      <td>28.0</td>\n",
       "      <td>4.0</td>\n",
       "    </tr>\n",
       "    <tr>\n",
       "      <th>4727</th>\n",
       "      <td>2019</td>\n",
       "      <td>65000</td>\n",
       "      <td>Semi-Auto</td>\n",
       "      <td>3398</td>\n",
       "      <td>145</td>\n",
       "      <td>27.2</td>\n",
       "      <td>4.0</td>\n",
       "    </tr>\n",
       "    <tr>\n",
       "      <th>8814</th>\n",
       "      <td>2019</td>\n",
       "      <td>64999</td>\n",
       "      <td>Semi-Auto</td>\n",
       "      <td>119</td>\n",
       "      <td>145</td>\n",
       "      <td>40.9</td>\n",
       "      <td>3.0</td>\n",
       "    </tr>\n",
       "  </tbody>\n",
       "</table>\n",
       "</div>"
      ],
      "text/plain": [
       "      year  price transmission  mileage  tax   mpg  engineSize\n",
       "6177  2019  65990    Semi-Auto     5076  150  30.4         3.0\n",
       "5779  2020  65990    Semi-Auto      999  145  28.0         4.0\n",
       "3191  2020  65980    Semi-Auto     3999  145  28.0         4.0\n",
       "4727  2019  65000    Semi-Auto     3398  145  27.2         4.0\n",
       "8814  2019  64999    Semi-Auto      119  145  40.9         3.0"
      ]
     },
     "execution_count": 22,
     "metadata": {},
     "output_type": "execute_result"
    }
   ],
   "source": [
    "dataFrame.head()"
   ]
  },
  {
   "cell_type": "code",
   "execution_count": 23,
   "id": "02caa575",
   "metadata": {},
   "outputs": [],
   "source": [
    "dataFrame = dataFrame.drop(\"transmission\", axis=1)"
   ]
  },
  {
   "cell_type": "code",
   "execution_count": 24,
   "id": "52f00c92",
   "metadata": {},
   "outputs": [
    {
     "data": {
      "text/html": [
       "<div>\n",
       "<style scoped>\n",
       "    .dataframe tbody tr th:only-of-type {\n",
       "        vertical-align: middle;\n",
       "    }\n",
       "\n",
       "    .dataframe tbody tr th {\n",
       "        vertical-align: top;\n",
       "    }\n",
       "\n",
       "    .dataframe thead th {\n",
       "        text-align: right;\n",
       "    }\n",
       "</style>\n",
       "<table border=\"1\" class=\"dataframe\">\n",
       "  <thead>\n",
       "    <tr style=\"text-align: right;\">\n",
       "      <th></th>\n",
       "      <th>year</th>\n",
       "      <th>price</th>\n",
       "      <th>mileage</th>\n",
       "      <th>tax</th>\n",
       "      <th>mpg</th>\n",
       "      <th>engineSize</th>\n",
       "    </tr>\n",
       "  </thead>\n",
       "  <tbody>\n",
       "    <tr>\n",
       "      <th>6177</th>\n",
       "      <td>2019</td>\n",
       "      <td>65990</td>\n",
       "      <td>5076</td>\n",
       "      <td>150</td>\n",
       "      <td>30.4</td>\n",
       "      <td>3.0</td>\n",
       "    </tr>\n",
       "    <tr>\n",
       "      <th>5779</th>\n",
       "      <td>2020</td>\n",
       "      <td>65990</td>\n",
       "      <td>999</td>\n",
       "      <td>145</td>\n",
       "      <td>28.0</td>\n",
       "      <td>4.0</td>\n",
       "    </tr>\n",
       "    <tr>\n",
       "      <th>3191</th>\n",
       "      <td>2020</td>\n",
       "      <td>65980</td>\n",
       "      <td>3999</td>\n",
       "      <td>145</td>\n",
       "      <td>28.0</td>\n",
       "      <td>4.0</td>\n",
       "    </tr>\n",
       "    <tr>\n",
       "      <th>4727</th>\n",
       "      <td>2019</td>\n",
       "      <td>65000</td>\n",
       "      <td>3398</td>\n",
       "      <td>145</td>\n",
       "      <td>27.2</td>\n",
       "      <td>4.0</td>\n",
       "    </tr>\n",
       "    <tr>\n",
       "      <th>8814</th>\n",
       "      <td>2019</td>\n",
       "      <td>64999</td>\n",
       "      <td>119</td>\n",
       "      <td>145</td>\n",
       "      <td>40.9</td>\n",
       "      <td>3.0</td>\n",
       "    </tr>\n",
       "  </tbody>\n",
       "</table>\n",
       "</div>"
      ],
      "text/plain": [
       "      year  price  mileage  tax   mpg  engineSize\n",
       "6177  2019  65990     5076  150  30.4         3.0\n",
       "5779  2020  65990      999  145  28.0         4.0\n",
       "3191  2020  65980     3999  145  28.0         4.0\n",
       "4727  2019  65000     3398  145  27.2         4.0\n",
       "8814  2019  64999      119  145  40.9         3.0"
      ]
     },
     "execution_count": 24,
     "metadata": {},
     "output_type": "execute_result"
    }
   ],
   "source": [
    "dataFrame.head()"
   ]
  },
  {
   "cell_type": "code",
   "execution_count": 25,
   "id": "d7d8dbd6",
   "metadata": {},
   "outputs": [],
   "source": [
    "y = dataFrame[\"price\"].values"
   ]
  },
  {
   "cell_type": "code",
   "execution_count": 26,
   "id": "4c00a816",
   "metadata": {},
   "outputs": [],
   "source": [
    "x = dataFrame.drop(\"price\",axis=1).values"
   ]
  },
  {
   "cell_type": "code",
   "execution_count": 27,
   "id": "e745799e",
   "metadata": {},
   "outputs": [
    {
     "data": {
      "text/plain": [
       "array([[2.01900e+03, 5.07600e+03, 1.50000e+02, 3.04000e+01, 3.00000e+00],\n",
       "       [2.02000e+03, 9.99000e+02, 1.45000e+02, 2.80000e+01, 4.00000e+00],\n",
       "       [2.02000e+03, 3.99900e+03, 1.45000e+02, 2.80000e+01, 4.00000e+00],\n",
       "       ...,\n",
       "       [2.00000e+03, 8.70000e+04, 2.65000e+02, 2.72000e+01, 3.20000e+00],\n",
       "       [2.01000e+03, 1.16126e+05, 1.45000e+02, 5.43000e+01, 2.00000e+00],\n",
       "       [2.00300e+03, 1.09090e+05, 2.35000e+02, 4.00000e+01, 1.40000e+00]])"
      ]
     },
     "execution_count": 27,
     "metadata": {},
     "output_type": "execute_result"
    }
   ],
   "source": [
    "x"
   ]
  },
  {
   "cell_type": "code",
   "execution_count": 28,
   "id": "4931e027",
   "metadata": {},
   "outputs": [],
   "source": [
    "from sklearn.model_selection import train_test_split"
   ]
  },
  {
   "cell_type": "code",
   "execution_count": 29,
   "id": "0ae88f84",
   "metadata": {},
   "outputs": [],
   "source": [
    "x_train, x_test, y_train, y_test = train_test_split(x,y,test_size=0.3,random_state=10)"
   ]
  },
  {
   "cell_type": "code",
   "execution_count": 30,
   "id": "c1d5e7df",
   "metadata": {},
   "outputs": [
    {
     "data": {
      "text/plain": [
       "9090"
      ]
     },
     "execution_count": 30,
     "metadata": {},
     "output_type": "execute_result"
    }
   ],
   "source": [
    "len(x_train)"
   ]
  },
  {
   "cell_type": "code",
   "execution_count": 31,
   "id": "0bbfbaaf",
   "metadata": {},
   "outputs": [
    {
     "data": {
      "text/plain": [
       "3897"
      ]
     },
     "execution_count": 31,
     "metadata": {},
     "output_type": "execute_result"
    }
   ],
   "source": [
    "len(x_test)"
   ]
  },
  {
   "cell_type": "code",
   "execution_count": 32,
   "id": "84652716",
   "metadata": {},
   "outputs": [],
   "source": [
    "from sklearn.preprocessing import MinMaxScaler"
   ]
  },
  {
   "cell_type": "code",
   "execution_count": 33,
   "id": "9b89c810",
   "metadata": {},
   "outputs": [],
   "source": [
    "scaler = MinMaxScaler()"
   ]
  },
  {
   "cell_type": "code",
   "execution_count": 34,
   "id": "8c5c7aa6",
   "metadata": {},
   "outputs": [],
   "source": [
    "x_train = scaler.fit_transform(x_train)\n",
    "x_test = scaler.transform(x_test)"
   ]
  },
  {
   "cell_type": "code",
   "execution_count": 35,
   "id": "e59644e8",
   "metadata": {},
   "outputs": [],
   "source": [
    "from tensorflow.keras.models import Sequential\n",
    "from tensorflow.keras.layers import Dense"
   ]
  },
  {
   "cell_type": "code",
   "execution_count": 36,
   "id": "d02fa9e9",
   "metadata": {},
   "outputs": [],
   "source": [
    "model = Sequential()"
   ]
  },
  {
   "cell_type": "code",
   "execution_count": 37,
   "id": "086922bd",
   "metadata": {},
   "outputs": [
    {
     "data": {
      "text/plain": [
       "(9090, 5)"
      ]
     },
     "execution_count": 37,
     "metadata": {},
     "output_type": "execute_result"
    }
   ],
   "source": [
    "x_train.shape"
   ]
  },
  {
   "cell_type": "code",
   "execution_count": 38,
   "id": "4a94537f",
   "metadata": {},
   "outputs": [],
   "source": [
    "model.add(Dense(20,activation=\"relu\"))\n",
    "model.add(Dense(20,activation=\"relu\"))\n",
    "model.add(Dense(20,activation=\"relu\"))\n",
    "model.add(Dense(20,activation=\"relu\"))\n",
    "model.add(Dense(20,activation=\"relu\"))\n",
    "\n",
    "model.add(Dense(1))\n",
    "\n",
    "model.compile(optimizer=\"adam\",loss=\"mse\")"
   ]
  },
  {
   "cell_type": "code",
   "execution_count": 39,
   "id": "b024dfbe",
   "metadata": {},
   "outputs": [
    {
     "name": "stdout",
     "output_type": "stream",
     "text": [
      "Epoch 1/300\n",
      "31/31 [==============================] - 0s 5ms/step - loss: 672134656.0000 - val_loss: 688073728.0000\n",
      "Epoch 2/300\n",
      "31/31 [==============================] - 0s 1ms/step - loss: 672034688.0000 - val_loss: 687850560.0000\n",
      "Epoch 3/300\n",
      "31/31 [==============================] - 0s 1ms/step - loss: 671492928.0000 - val_loss: 686659584.0000\n",
      "Epoch 4/300\n",
      "31/31 [==============================] - 0s 1ms/step - loss: 668679488.0000 - val_loss: 680727552.0000\n",
      "Epoch 5/300\n",
      "31/31 [==============================] - 0s 1ms/step - loss: 656134848.0000 - val_loss: 656543936.0000\n",
      "Epoch 6/300\n",
      "31/31 [==============================] - 0s 1ms/step - loss: 611785408.0000 - val_loss: 580100352.0000\n",
      "Epoch 7/300\n",
      "31/31 [==============================] - 0s 1ms/step - loss: 493199808.0000 - val_loss: 403857856.0000\n",
      "Epoch 8/300\n",
      "31/31 [==============================] - 0s 1ms/step - loss: 279860832.0000 - val_loss: 167107904.0000\n",
      "Epoch 9/300\n",
      "31/31 [==============================] - 0s 1ms/step - loss: 108645544.0000 - val_loss: 88673728.0000\n",
      "Epoch 10/300\n",
      "31/31 [==============================] - 0s 1ms/step - loss: 87184632.0000 - val_loss: 87321056.0000\n",
      "Epoch 11/300\n",
      "31/31 [==============================] - 0s 1ms/step - loss: 85460392.0000 - val_loss: 86154032.0000\n",
      "Epoch 12/300\n",
      "31/31 [==============================] - 0s 1ms/step - loss: 84224304.0000 - val_loss: 85012344.0000\n",
      "Epoch 13/300\n",
      "31/31 [==============================] - 0s 1ms/step - loss: 83068928.0000 - val_loss: 83908296.0000\n",
      "Epoch 14/300\n",
      "31/31 [==============================] - 0s 1ms/step - loss: 81946728.0000 - val_loss: 82805424.0000\n",
      "Epoch 15/300\n",
      "31/31 [==============================] - 0s 1ms/step - loss: 80829648.0000 - val_loss: 81716128.0000\n",
      "Epoch 16/300\n",
      "31/31 [==============================] - 0s 1ms/step - loss: 79724992.0000 - val_loss: 80576776.0000\n",
      "Epoch 17/300\n",
      "31/31 [==============================] - 0s 1ms/step - loss: 78631008.0000 - val_loss: 79498120.0000\n",
      "Epoch 18/300\n",
      "31/31 [==============================] - 0s 1ms/step - loss: 77532264.0000 - val_loss: 78453352.0000\n",
      "Epoch 19/300\n",
      "31/31 [==============================] - 0s 1ms/step - loss: 76453944.0000 - val_loss: 77352288.0000\n",
      "Epoch 20/300\n",
      "31/31 [==============================] - 0s 1ms/step - loss: 75398072.0000 - val_loss: 76378536.0000\n",
      "Epoch 21/300\n",
      "31/31 [==============================] - 0s 1ms/step - loss: 74259064.0000 - val_loss: 75162144.0000\n",
      "Epoch 22/300\n",
      "31/31 [==============================] - 0s 1ms/step - loss: 73129664.0000 - val_loss: 74141184.0000\n",
      "Epoch 23/300\n",
      "31/31 [==============================] - 0s 1ms/step - loss: 72024384.0000 - val_loss: 73023448.0000\n",
      "Epoch 24/300\n",
      "31/31 [==============================] - 0s 1ms/step - loss: 70959720.0000 - val_loss: 71999832.0000\n",
      "Epoch 25/300\n",
      "31/31 [==============================] - 0s 1ms/step - loss: 69829384.0000 - val_loss: 70837592.0000\n",
      "Epoch 26/300\n",
      "31/31 [==============================] - 0s 1ms/step - loss: 68737432.0000 - val_loss: 69804872.0000\n",
      "Epoch 27/300\n",
      "31/31 [==============================] - 0s 1ms/step - loss: 67603824.0000 - val_loss: 68700320.0000\n",
      "Epoch 28/300\n",
      "31/31 [==============================] - 0s 1ms/step - loss: 66461832.0000 - val_loss: 67503976.0000\n",
      "Epoch 29/300\n",
      "31/31 [==============================] - 0s 1ms/step - loss: 65334684.0000 - val_loss: 66372876.0000\n",
      "Epoch 30/300\n",
      "31/31 [==============================] - 0s 1ms/step - loss: 64208092.0000 - val_loss: 65249004.0000\n",
      "Epoch 31/300\n",
      "31/31 [==============================] - 0s 1ms/step - loss: 63002864.0000 - val_loss: 64090072.0000\n",
      "Epoch 32/300\n",
      "31/31 [==============================] - 0s 1ms/step - loss: 61831740.0000 - val_loss: 62917808.0000\n",
      "Epoch 33/300\n",
      "31/31 [==============================] - 0s 1ms/step - loss: 60628868.0000 - val_loss: 61763256.0000\n",
      "Epoch 34/300\n",
      "31/31 [==============================] - 0s 2ms/step - loss: 59420284.0000 - val_loss: 60533068.0000\n",
      "Epoch 35/300\n",
      "31/31 [==============================] - 0s 2ms/step - loss: 58220856.0000 - val_loss: 59340380.0000\n",
      "Epoch 36/300\n",
      "31/31 [==============================] - 0s 1ms/step - loss: 56980108.0000 - val_loss: 58065812.0000\n",
      "Epoch 37/300\n",
      "31/31 [==============================] - 0s 1ms/step - loss: 55710176.0000 - val_loss: 56836348.0000\n",
      "Epoch 38/300\n",
      "31/31 [==============================] - 0s 1ms/step - loss: 54425928.0000 - val_loss: 55526392.0000\n",
      "Epoch 39/300\n",
      "31/31 [==============================] - 0s 1ms/step - loss: 53107568.0000 - val_loss: 54198252.0000\n",
      "Epoch 40/300\n",
      "31/31 [==============================] - 0s 1ms/step - loss: 51852268.0000 - val_loss: 52841956.0000\n",
      "Epoch 41/300\n",
      "31/31 [==============================] - 0s 1ms/step - loss: 50466324.0000 - val_loss: 51495772.0000\n",
      "Epoch 42/300\n",
      "31/31 [==============================] - 0s 1ms/step - loss: 49077996.0000 - val_loss: 50080832.0000\n",
      "Epoch 43/300\n",
      "31/31 [==============================] - 0s 1ms/step - loss: 47694188.0000 - val_loss: 48671136.0000\n",
      "Epoch 44/300\n",
      "31/31 [==============================] - 0s 1ms/step - loss: 46281396.0000 - val_loss: 47239704.0000\n",
      "Epoch 45/300\n",
      "31/31 [==============================] - 0s 1ms/step - loss: 44844424.0000 - val_loss: 45844848.0000\n",
      "Epoch 46/300\n",
      "31/31 [==============================] - 0s 1ms/step - loss: 43419548.0000 - val_loss: 44319580.0000\n",
      "Epoch 47/300\n",
      "31/31 [==============================] - 0s 1ms/step - loss: 41967944.0000 - val_loss: 42909424.0000\n",
      "Epoch 48/300\n",
      "31/31 [==============================] - 0s 1ms/step - loss: 40538316.0000 - val_loss: 41408304.0000\n",
      "Epoch 49/300\n",
      "31/31 [==============================] - 0s 1ms/step - loss: 39072732.0000 - val_loss: 39920608.0000\n",
      "Epoch 50/300\n",
      "31/31 [==============================] - 0s 1ms/step - loss: 37640772.0000 - val_loss: 38472648.0000\n",
      "Epoch 51/300\n",
      "31/31 [==============================] - 0s 1ms/step - loss: 36264488.0000 - val_loss: 37062844.0000\n",
      "Epoch 52/300\n",
      "31/31 [==============================] - 0s 1ms/step - loss: 34962320.0000 - val_loss: 35697492.0000\n",
      "Epoch 53/300\n",
      "31/31 [==============================] - 0s 1ms/step - loss: 33599368.0000 - val_loss: 34434512.0000\n",
      "Epoch 54/300\n",
      "31/31 [==============================] - 0s 1ms/step - loss: 32413342.0000 - val_loss: 33303480.0000\n",
      "Epoch 55/300\n",
      "31/31 [==============================] - 0s 1ms/step - loss: 31258928.0000 - val_loss: 32141500.0000\n",
      "Epoch 56/300\n",
      "31/31 [==============================] - 0s 1ms/step - loss: 30234358.0000 - val_loss: 31076646.0000\n",
      "Epoch 57/300\n",
      "31/31 [==============================] - 0s 1ms/step - loss: 29229822.0000 - val_loss: 30096074.0000\n",
      "Epoch 58/300\n",
      "31/31 [==============================] - 0s 1ms/step - loss: 28302184.0000 - val_loss: 29223146.0000\n",
      "Epoch 59/300\n",
      "31/31 [==============================] - 0s 1ms/step - loss: 27498984.0000 - val_loss: 28537500.0000\n",
      "Epoch 60/300\n",
      "31/31 [==============================] - 0s 1ms/step - loss: 26759942.0000 - val_loss: 27744366.0000\n",
      "Epoch 61/300\n",
      "31/31 [==============================] - 0s 1ms/step - loss: 26095520.0000 - val_loss: 27134906.0000\n",
      "Epoch 62/300\n",
      "31/31 [==============================] - 0s 1ms/step - loss: 25510346.0000 - val_loss: 26552582.0000\n",
      "Epoch 63/300\n",
      "31/31 [==============================] - 0s 1ms/step - loss: 24974916.0000 - val_loss: 26074778.0000\n",
      "Epoch 64/300\n",
      "31/31 [==============================] - 0s 1ms/step - loss: 24577514.0000 - val_loss: 25669854.0000\n",
      "Epoch 65/300\n",
      "31/31 [==============================] - 0s 1ms/step - loss: 24193608.0000 - val_loss: 25264852.0000\n",
      "Epoch 66/300\n",
      "31/31 [==============================] - 0s 1ms/step - loss: 23768260.0000 - val_loss: 24958908.0000\n",
      "Epoch 67/300\n",
      "31/31 [==============================] - 0s 1ms/step - loss: 23484156.0000 - val_loss: 24662470.0000\n",
      "Epoch 68/300\n",
      "31/31 [==============================] - 0s 1ms/step - loss: 23203938.0000 - val_loss: 24461724.0000\n",
      "Epoch 69/300\n",
      "31/31 [==============================] - 0s 1ms/step - loss: 23012582.0000 - val_loss: 24244046.0000\n",
      "Epoch 70/300\n",
      "31/31 [==============================] - 0s 1ms/step - loss: 22765484.0000 - val_loss: 24031596.0000\n",
      "Epoch 71/300\n",
      "31/31 [==============================] - 0s 1ms/step - loss: 22548828.0000 - val_loss: 23894646.0000\n",
      "Epoch 72/300\n",
      "31/31 [==============================] - 0s 1ms/step - loss: 22389762.0000 - val_loss: 23725596.0000\n"
     ]
    },
    {
     "name": "stdout",
     "output_type": "stream",
     "text": [
      "Epoch 73/300\n",
      "31/31 [==============================] - 0s 1ms/step - loss: 22231546.0000 - val_loss: 23577916.0000\n",
      "Epoch 74/300\n",
      "31/31 [==============================] - 0s 1ms/step - loss: 22090918.0000 - val_loss: 23456790.0000\n",
      "Epoch 75/300\n",
      "31/31 [==============================] - 0s 1ms/step - loss: 21971592.0000 - val_loss: 23330774.0000\n",
      "Epoch 76/300\n",
      "31/31 [==============================] - 0s 1ms/step - loss: 21831202.0000 - val_loss: 23224226.0000\n",
      "Epoch 77/300\n",
      "31/31 [==============================] - 0s 1ms/step - loss: 21694348.0000 - val_loss: 23083942.0000\n",
      "Epoch 78/300\n",
      "31/31 [==============================] - 0s 1ms/step - loss: 21603574.0000 - val_loss: 22978984.0000\n",
      "Epoch 79/300\n",
      "31/31 [==============================] - 0s 1ms/step - loss: 21492340.0000 - val_loss: 22899198.0000\n",
      "Epoch 80/300\n",
      "31/31 [==============================] - 0s 1ms/step - loss: 21412772.0000 - val_loss: 22812740.0000\n",
      "Epoch 81/300\n",
      "31/31 [==============================] - 0s 1ms/step - loss: 21334058.0000 - val_loss: 22749212.0000\n",
      "Epoch 82/300\n",
      "31/31 [==============================] - 0s 1ms/step - loss: 21233232.0000 - val_loss: 22667062.0000\n",
      "Epoch 83/300\n",
      "31/31 [==============================] - 0s 1ms/step - loss: 21149662.0000 - val_loss: 22605838.0000\n",
      "Epoch 84/300\n",
      "31/31 [==============================] - 0s 1ms/step - loss: 21092508.0000 - val_loss: 22531856.0000\n",
      "Epoch 85/300\n",
      "31/31 [==============================] - 0s 1ms/step - loss: 21008746.0000 - val_loss: 22488160.0000\n",
      "Epoch 86/300\n",
      "31/31 [==============================] - 0s 1ms/step - loss: 20967710.0000 - val_loss: 22386392.0000\n",
      "Epoch 87/300\n",
      "31/31 [==============================] - 0s 1ms/step - loss: 20864432.0000 - val_loss: 22389636.0000\n",
      "Epoch 88/300\n",
      "31/31 [==============================] - 0s 1ms/step - loss: 20784854.0000 - val_loss: 22275060.0000\n",
      "Epoch 89/300\n",
      "31/31 [==============================] - 0s 1ms/step - loss: 20717572.0000 - val_loss: 22201220.0000\n",
      "Epoch 90/300\n",
      "31/31 [==============================] - 0s 1ms/step - loss: 20672932.0000 - val_loss: 22135494.0000\n",
      "Epoch 91/300\n",
      "31/31 [==============================] - 0s 1ms/step - loss: 20621438.0000 - val_loss: 22247942.0000\n",
      "Epoch 92/300\n",
      "31/31 [==============================] - 0s 1ms/step - loss: 20583354.0000 - val_loss: 22030096.0000\n",
      "Epoch 93/300\n",
      "31/31 [==============================] - 0s 1ms/step - loss: 20503416.0000 - val_loss: 22010858.0000\n",
      "Epoch 94/300\n",
      "31/31 [==============================] - 0s 1ms/step - loss: 20482336.0000 - val_loss: 21968300.0000\n",
      "Epoch 95/300\n",
      "31/31 [==============================] - 0s 1ms/step - loss: 20415950.0000 - val_loss: 21893232.0000\n",
      "Epoch 96/300\n",
      "31/31 [==============================] - 0s 1ms/step - loss: 20381958.0000 - val_loss: 21849422.0000\n",
      "Epoch 97/300\n",
      "31/31 [==============================] - 0s 1ms/step - loss: 20361648.0000 - val_loss: 21909718.0000\n",
      "Epoch 98/300\n",
      "31/31 [==============================] - 0s 1ms/step - loss: 20293186.0000 - val_loss: 21877140.0000\n",
      "Epoch 99/300\n",
      "31/31 [==============================] - 0s 1ms/step - loss: 20326786.0000 - val_loss: 21767346.0000\n",
      "Epoch 100/300\n",
      "31/31 [==============================] - 0s 1ms/step - loss: 20242530.0000 - val_loss: 21720056.0000\n",
      "Epoch 101/300\n",
      "31/31 [==============================] - 0s 1ms/step - loss: 20199454.0000 - val_loss: 21690532.0000\n",
      "Epoch 102/300\n",
      "31/31 [==============================] - 0s 1ms/step - loss: 20173480.0000 - val_loss: 21694524.0000\n",
      "Epoch 103/300\n",
      "31/31 [==============================] - 0s 1ms/step - loss: 20155130.0000 - val_loss: 21637978.0000\n",
      "Epoch 104/300\n",
      "31/31 [==============================] - 0s 1ms/step - loss: 20142860.0000 - val_loss: 21599946.0000\n",
      "Epoch 105/300\n",
      "31/31 [==============================] - 0s 1ms/step - loss: 20106412.0000 - val_loss: 21652874.0000\n",
      "Epoch 106/300\n",
      "31/31 [==============================] - 0s 1ms/step - loss: 20091036.0000 - val_loss: 21571924.0000\n",
      "Epoch 107/300\n",
      "31/31 [==============================] - 0s 1ms/step - loss: 20026824.0000 - val_loss: 21567726.0000\n",
      "Epoch 108/300\n",
      "31/31 [==============================] - 0s 1ms/step - loss: 20026710.0000 - val_loss: 21547810.0000\n",
      "Epoch 109/300\n",
      "31/31 [==============================] - 0s 1ms/step - loss: 20020432.0000 - val_loss: 21486512.0000\n",
      "Epoch 110/300\n",
      "31/31 [==============================] - 0s 1ms/step - loss: 19952132.0000 - val_loss: 21464636.0000\n",
      "Epoch 111/300\n",
      "31/31 [==============================] - 0s 1ms/step - loss: 19971038.0000 - val_loss: 21405508.0000\n",
      "Epoch 112/300\n",
      "31/31 [==============================] - 0s 1ms/step - loss: 19939416.0000 - val_loss: 21489166.0000\n",
      "Epoch 113/300\n",
      "31/31 [==============================] - 0s 1ms/step - loss: 19919820.0000 - val_loss: 21357636.0000\n",
      "Epoch 114/300\n",
      "31/31 [==============================] - 0s 1ms/step - loss: 19861382.0000 - val_loss: 21352858.0000\n",
      "Epoch 115/300\n",
      "31/31 [==============================] - 0s 1ms/step - loss: 19915670.0000 - val_loss: 21346782.0000\n",
      "Epoch 116/300\n",
      "31/31 [==============================] - 0s 1ms/step - loss: 19824010.0000 - val_loss: 21275954.0000\n",
      "Epoch 117/300\n",
      "31/31 [==============================] - 0s 1ms/step - loss: 19804220.0000 - val_loss: 21356868.0000\n",
      "Epoch 118/300\n",
      "31/31 [==============================] - 0s 1ms/step - loss: 19736460.0000 - val_loss: 21481842.0000\n",
      "Epoch 119/300\n",
      "31/31 [==============================] - 0s 1ms/step - loss: 19758574.0000 - val_loss: 21207018.0000\n",
      "Epoch 120/300\n",
      "31/31 [==============================] - 0s 1ms/step - loss: 19779906.0000 - val_loss: 21162832.0000\n",
      "Epoch 121/300\n",
      "31/31 [==============================] - 0s 1ms/step - loss: 19662314.0000 - val_loss: 21228316.0000\n",
      "Epoch 122/300\n",
      "31/31 [==============================] - 0s 1ms/step - loss: 19709802.0000 - val_loss: 21131386.0000\n",
      "Epoch 123/300\n",
      "31/31 [==============================] - 0s 1ms/step - loss: 19641860.0000 - val_loss: 21105904.0000\n",
      "Epoch 124/300\n",
      "31/31 [==============================] - 0s 1ms/step - loss: 19657082.0000 - val_loss: 21195068.0000\n",
      "Epoch 125/300\n",
      "31/31 [==============================] - 0s 1ms/step - loss: 19657106.0000 - val_loss: 21060496.0000\n",
      "Epoch 126/300\n",
      "31/31 [==============================] - 0s 1ms/step - loss: 19571866.0000 - val_loss: 21019452.0000\n",
      "Epoch 127/300\n",
      "31/31 [==============================] - 0s 1ms/step - loss: 19584778.0000 - val_loss: 21002942.0000\n",
      "Epoch 128/300\n",
      "31/31 [==============================] - 0s 1ms/step - loss: 19540774.0000 - val_loss: 20978114.0000\n",
      "Epoch 129/300\n",
      "31/31 [==============================] - 0s 1ms/step - loss: 19503734.0000 - val_loss: 20996230.0000\n",
      "Epoch 130/300\n",
      "31/31 [==============================] - 0s 1ms/step - loss: 19495050.0000 - val_loss: 20939358.0000\n",
      "Epoch 131/300\n",
      "31/31 [==============================] - 0s 1ms/step - loss: 19464184.0000 - val_loss: 20906370.0000\n",
      "Epoch 132/300\n",
      "31/31 [==============================] - 0s 1ms/step - loss: 19463222.0000 - val_loss: 20916818.0000\n",
      "Epoch 133/300\n",
      "31/31 [==============================] - 0s 1ms/step - loss: 19482780.0000 - val_loss: 20879768.0000\n",
      "Epoch 134/300\n",
      "31/31 [==============================] - 0s 1ms/step - loss: 19408956.0000 - val_loss: 20925234.0000\n",
      "Epoch 135/300\n",
      "31/31 [==============================] - 0s 1ms/step - loss: 19402982.0000 - val_loss: 20848614.0000\n",
      "Epoch 136/300\n",
      "31/31 [==============================] - 0s 1ms/step - loss: 19361126.0000 - val_loss: 20839286.0000\n",
      "Epoch 137/300\n",
      "31/31 [==============================] - 0s 1ms/step - loss: 19387984.0000 - val_loss: 20791676.0000\n",
      "Epoch 138/300\n",
      "31/31 [==============================] - 0s 1ms/step - loss: 19331176.0000 - val_loss: 20843810.0000\n",
      "Epoch 139/300\n",
      "31/31 [==============================] - 0s 1ms/step - loss: 19356278.0000 - val_loss: 20746810.0000\n",
      "Epoch 140/300\n",
      "31/31 [==============================] - 0s 1ms/step - loss: 19324208.0000 - val_loss: 20728286.0000\n",
      "Epoch 141/300\n",
      "31/31 [==============================] - 0s 1ms/step - loss: 19342174.0000 - val_loss: 20695616.0000\n",
      "Epoch 142/300\n",
      "31/31 [==============================] - 0s 1ms/step - loss: 19281734.0000 - val_loss: 20717298.0000\n",
      "Epoch 143/300\n",
      "31/31 [==============================] - 0s 1ms/step - loss: 19277434.0000 - val_loss: 20671678.0000\n",
      "Epoch 144/300\n"
     ]
    },
    {
     "name": "stdout",
     "output_type": "stream",
     "text": [
      "31/31 [==============================] - 0s 1ms/step - loss: 19187968.0000 - val_loss: 20672724.0000\n",
      "Epoch 145/300\n",
      "31/31 [==============================] - 0s 1ms/step - loss: 19217112.0000 - val_loss: 20653896.0000\n",
      "Epoch 146/300\n",
      "31/31 [==============================] - 0s 1ms/step - loss: 19226188.0000 - val_loss: 20608690.0000\n",
      "Epoch 147/300\n",
      "31/31 [==============================] - 0s 1ms/step - loss: 19178724.0000 - val_loss: 20609306.0000\n",
      "Epoch 148/300\n",
      "31/31 [==============================] - 0s 1ms/step - loss: 19122652.0000 - val_loss: 20577690.0000\n",
      "Epoch 149/300\n",
      "31/31 [==============================] - 0s 1ms/step - loss: 19136554.0000 - val_loss: 20562978.0000\n",
      "Epoch 150/300\n",
      "31/31 [==============================] - 0s 1ms/step - loss: 19110558.0000 - val_loss: 20519424.0000\n",
      "Epoch 151/300\n",
      "31/31 [==============================] - 0s 1ms/step - loss: 19061104.0000 - val_loss: 20506428.0000\n",
      "Epoch 152/300\n",
      "31/31 [==============================] - 0s 1ms/step - loss: 19103742.0000 - val_loss: 20531960.0000\n",
      "Epoch 153/300\n",
      "31/31 [==============================] - 0s 1ms/step - loss: 19046244.0000 - val_loss: 20473102.0000\n",
      "Epoch 154/300\n",
      "31/31 [==============================] - 0s 1ms/step - loss: 19050696.0000 - val_loss: 20451744.0000\n",
      "Epoch 155/300\n",
      "31/31 [==============================] - 0s 1ms/step - loss: 19043558.0000 - val_loss: 20451306.0000\n",
      "Epoch 156/300\n",
      "31/31 [==============================] - 0s 1ms/step - loss: 19023996.0000 - val_loss: 20436174.0000\n",
      "Epoch 157/300\n",
      "31/31 [==============================] - 0s 1ms/step - loss: 18974866.0000 - val_loss: 20410390.0000\n",
      "Epoch 158/300\n",
      "31/31 [==============================] - 0s 1ms/step - loss: 18962564.0000 - val_loss: 20393712.0000\n",
      "Epoch 159/300\n",
      "31/31 [==============================] - 0s 1ms/step - loss: 18942842.0000 - val_loss: 20371112.0000\n",
      "Epoch 160/300\n",
      "31/31 [==============================] - 0s 1ms/step - loss: 18952060.0000 - val_loss: 20353898.0000\n",
      "Epoch 161/300\n",
      "31/31 [==============================] - 0s 1ms/step - loss: 18932360.0000 - val_loss: 20350916.0000\n",
      "Epoch 162/300\n",
      "31/31 [==============================] - 0s 1ms/step - loss: 18910440.0000 - val_loss: 20365258.0000\n",
      "Epoch 163/300\n",
      "31/31 [==============================] - 0s 1ms/step - loss: 18877806.0000 - val_loss: 20297374.0000\n",
      "Epoch 164/300\n",
      "31/31 [==============================] - 0s 1ms/step - loss: 18865334.0000 - val_loss: 20283854.0000\n",
      "Epoch 165/300\n",
      "31/31 [==============================] - 0s 1ms/step - loss: 18898816.0000 - val_loss: 20257282.0000\n",
      "Epoch 166/300\n",
      "31/31 [==============================] - 0s 1ms/step - loss: 18830330.0000 - val_loss: 20322626.0000\n",
      "Epoch 167/300\n",
      "31/31 [==============================] - 0s 1ms/step - loss: 18836618.0000 - val_loss: 20265714.0000\n",
      "Epoch 168/300\n",
      "31/31 [==============================] - 0s 1ms/step - loss: 18841752.0000 - val_loss: 20419158.0000\n",
      "Epoch 169/300\n",
      "31/31 [==============================] - 0s 1ms/step - loss: 18824626.0000 - val_loss: 20199720.0000\n",
      "Epoch 170/300\n",
      "31/31 [==============================] - 0s 1ms/step - loss: 18764686.0000 - val_loss: 20189386.0000\n",
      "Epoch 171/300\n",
      "31/31 [==============================] - 0s 1ms/step - loss: 18755838.0000 - val_loss: 20185744.0000\n",
      "Epoch 172/300\n",
      "31/31 [==============================] - 0s 1ms/step - loss: 18763394.0000 - val_loss: 20208378.0000\n",
      "Epoch 173/300\n",
      "31/31 [==============================] - 0s 1ms/step - loss: 18740020.0000 - val_loss: 20187254.0000\n",
      "Epoch 174/300\n",
      "31/31 [==============================] - 0s 1ms/step - loss: 18750776.0000 - val_loss: 20156480.0000\n",
      "Epoch 175/300\n",
      "31/31 [==============================] - 0s 1ms/step - loss: 18705614.0000 - val_loss: 20092266.0000\n",
      "Epoch 176/300\n",
      "31/31 [==============================] - 0s 1ms/step - loss: 18676902.0000 - val_loss: 20075436.0000\n",
      "Epoch 177/300\n",
      "31/31 [==============================] - 0s 1ms/step - loss: 18677186.0000 - val_loss: 20134176.0000\n",
      "Epoch 178/300\n",
      "31/31 [==============================] - 0s 1ms/step - loss: 18653966.0000 - val_loss: 20170704.0000\n",
      "Epoch 179/300\n",
      "31/31 [==============================] - 0s 1ms/step - loss: 18702712.0000 - val_loss: 20050294.0000\n",
      "Epoch 180/300\n",
      "31/31 [==============================] - 0s 1ms/step - loss: 18621776.0000 - val_loss: 20097142.0000\n",
      "Epoch 181/300\n",
      "31/31 [==============================] - 0s 1ms/step - loss: 18637496.0000 - val_loss: 20098516.0000\n",
      "Epoch 182/300\n",
      "31/31 [==============================] - 0s 1ms/step - loss: 18615676.0000 - val_loss: 20046740.0000\n",
      "Epoch 183/300\n",
      "31/31 [==============================] - 0s 1ms/step - loss: 18625188.0000 - val_loss: 20010502.0000\n",
      "Epoch 184/300\n",
      "31/31 [==============================] - 0s 1ms/step - loss: 18600420.0000 - val_loss: 19993312.0000\n",
      "Epoch 185/300\n",
      "31/31 [==============================] - 0s 1ms/step - loss: 18565606.0000 - val_loss: 19982478.0000\n",
      "Epoch 186/300\n",
      "31/31 [==============================] - 0s 1ms/step - loss: 18591228.0000 - val_loss: 19953206.0000\n",
      "Epoch 187/300\n",
      "31/31 [==============================] - 0s 1ms/step - loss: 18548148.0000 - val_loss: 19953664.0000\n",
      "Epoch 188/300\n",
      "31/31 [==============================] - 0s 1ms/step - loss: 18634290.0000 - val_loss: 19925010.0000\n",
      "Epoch 189/300\n",
      "31/31 [==============================] - 0s 1ms/step - loss: 18605464.0000 - val_loss: 19924010.0000\n",
      "Epoch 190/300\n",
      "31/31 [==============================] - 0s 1ms/step - loss: 18577708.0000 - val_loss: 19940204.0000\n",
      "Epoch 191/300\n",
      "31/31 [==============================] - 0s 1ms/step - loss: 18501672.0000 - val_loss: 19910100.0000\n",
      "Epoch 192/300\n",
      "31/31 [==============================] - 0s 1ms/step - loss: 18508384.0000 - val_loss: 19885974.0000\n",
      "Epoch 193/300\n",
      "31/31 [==============================] - 0s 1ms/step - loss: 18497728.0000 - val_loss: 19872944.0000\n",
      "Epoch 194/300\n",
      "31/31 [==============================] - 0s 1ms/step - loss: 18472532.0000 - val_loss: 19867208.0000\n",
      "Epoch 195/300\n",
      "31/31 [==============================] - 0s 1ms/step - loss: 18451832.0000 - val_loss: 19939010.0000\n",
      "Epoch 196/300\n",
      "31/31 [==============================] - 0s 1ms/step - loss: 18471648.0000 - val_loss: 19870522.0000\n",
      "Epoch 197/300\n",
      "31/31 [==============================] - 0s 1ms/step - loss: 18555396.0000 - val_loss: 19979932.0000\n",
      "Epoch 198/300\n",
      "31/31 [==============================] - 0s 1ms/step - loss: 18473906.0000 - val_loss: 19844762.0000\n",
      "Epoch 199/300\n",
      "31/31 [==============================] - 0s 1ms/step - loss: 18416118.0000 - val_loss: 19794056.0000\n",
      "Epoch 200/300\n",
      "31/31 [==============================] - 0s 1ms/step - loss: 18433518.0000 - val_loss: 19804248.0000\n",
      "Epoch 201/300\n",
      "31/31 [==============================] - 0s 1ms/step - loss: 18393622.0000 - val_loss: 19780500.0000\n",
      "Epoch 202/300\n",
      "31/31 [==============================] - 0s 1ms/step - loss: 18422452.0000 - val_loss: 19852392.0000\n",
      "Epoch 203/300\n",
      "31/31 [==============================] - 0s 1ms/step - loss: 18378068.0000 - val_loss: 19814568.0000\n",
      "Epoch 204/300\n",
      "31/31 [==============================] - 0s 1ms/step - loss: 18371660.0000 - val_loss: 19844406.0000\n",
      "Epoch 205/300\n",
      "31/31 [==============================] - 0s 1ms/step - loss: 18358072.0000 - val_loss: 19900058.0000\n",
      "Epoch 206/300\n",
      "31/31 [==============================] - 0s 1ms/step - loss: 18474142.0000 - val_loss: 19788372.0000\n",
      "Epoch 207/300\n",
      "31/31 [==============================] - ETA: 0s - loss: 17799888.00 - 0s 1ms/step - loss: 18354614.0000 - val_loss: 19700456.0000\n",
      "Epoch 208/300\n",
      "31/31 [==============================] - 0s 1ms/step - loss: 18355044.0000 - val_loss: 19707514.0000\n",
      "Epoch 209/300\n",
      "31/31 [==============================] - 0s 1ms/step - loss: 18305516.0000 - val_loss: 19698640.0000\n",
      "Epoch 210/300\n",
      "31/31 [==============================] - 0s 1ms/step - loss: 18360772.0000 - val_loss: 19723340.0000\n",
      "Epoch 211/300\n",
      "31/31 [==============================] - 0s 1ms/step - loss: 18307692.0000 - val_loss: 19750884.0000\n",
      "Epoch 212/300\n",
      "31/31 [==============================] - 0s 1ms/step - loss: 18337016.0000 - val_loss: 19679404.0000\n",
      "Epoch 213/300\n",
      "31/31 [==============================] - 0s 1ms/step - loss: 18380834.0000 - val_loss: 19669382.0000\n",
      "Epoch 214/300\n",
      "31/31 [==============================] - 0s 1ms/step - loss: 18292562.0000 - val_loss: 19763084.0000\n",
      "Epoch 215/300\n"
     ]
    },
    {
     "name": "stdout",
     "output_type": "stream",
     "text": [
      "31/31 [==============================] - 0s 1ms/step - loss: 18314176.0000 - val_loss: 19630030.0000\n",
      "Epoch 216/300\n",
      "31/31 [==============================] - 0s 1ms/step - loss: 18274734.0000 - val_loss: 19658188.0000\n",
      "Epoch 217/300\n",
      "31/31 [==============================] - 0s 1ms/step - loss: 18276344.0000 - val_loss: 19670458.0000\n",
      "Epoch 218/300\n",
      "31/31 [==============================] - 0s 1ms/step - loss: 18277600.0000 - val_loss: 19811884.0000\n",
      "Epoch 219/300\n",
      "31/31 [==============================] - 0s 1ms/step - loss: 18335936.0000 - val_loss: 19620860.0000\n",
      "Epoch 220/300\n",
      "31/31 [==============================] - 0s 1ms/step - loss: 18346144.0000 - val_loss: 19617652.0000\n",
      "Epoch 221/300\n",
      "31/31 [==============================] - 0s 1ms/step - loss: 18266130.0000 - val_loss: 19588084.0000\n",
      "Epoch 222/300\n",
      "31/31 [==============================] - 0s 1ms/step - loss: 18230020.0000 - val_loss: 19586162.0000\n",
      "Epoch 223/300\n",
      "31/31 [==============================] - 0s 1ms/step - loss: 18220924.0000 - val_loss: 19585640.0000\n",
      "Epoch 224/300\n",
      "31/31 [==============================] - 0s 1ms/step - loss: 18233592.0000 - val_loss: 19557054.0000\n",
      "Epoch 225/300\n",
      "31/31 [==============================] - 0s 1ms/step - loss: 18182274.0000 - val_loss: 19540254.0000\n",
      "Epoch 226/300\n",
      "31/31 [==============================] - 0s 1ms/step - loss: 18172744.0000 - val_loss: 19593506.0000\n",
      "Epoch 227/300\n",
      "31/31 [==============================] - 0s 1ms/step - loss: 18196448.0000 - val_loss: 19529426.0000\n",
      "Epoch 228/300\n",
      "31/31 [==============================] - 0s 1ms/step - loss: 18199608.0000 - val_loss: 19540076.0000\n",
      "Epoch 229/300\n",
      "31/31 [==============================] - 0s 1ms/step - loss: 18167190.0000 - val_loss: 19600236.0000\n",
      "Epoch 230/300\n",
      "31/31 [==============================] - 0s 1ms/step - loss: 18210972.0000 - val_loss: 19488474.0000\n",
      "Epoch 231/300\n",
      "31/31 [==============================] - 0s 1ms/step - loss: 18227188.0000 - val_loss: 19488470.0000\n",
      "Epoch 232/300\n",
      "31/31 [==============================] - 0s 1ms/step - loss: 18139174.0000 - val_loss: 19620830.0000\n",
      "Epoch 233/300\n",
      "31/31 [==============================] - 0s 1ms/step - loss: 18133644.0000 - val_loss: 19471258.0000\n",
      "Epoch 234/300\n",
      "31/31 [==============================] - 0s 1ms/step - loss: 18119744.0000 - val_loss: 19543516.0000\n",
      "Epoch 235/300\n",
      "31/31 [==============================] - 0s 1ms/step - loss: 18199054.0000 - val_loss: 19597544.0000\n",
      "Epoch 236/300\n",
      "31/31 [==============================] - 0s 1ms/step - loss: 18172748.0000 - val_loss: 19481512.0000\n",
      "Epoch 237/300\n",
      "31/31 [==============================] - 0s 1ms/step - loss: 18098294.0000 - val_loss: 19446442.0000\n",
      "Epoch 238/300\n",
      "31/31 [==============================] - 0s 1ms/step - loss: 18136768.0000 - val_loss: 19430584.0000\n",
      "Epoch 239/300\n",
      "31/31 [==============================] - 0s 1ms/step - loss: 18111916.0000 - val_loss: 19413382.0000\n",
      "Epoch 240/300\n",
      "31/31 [==============================] - 0s 1ms/step - loss: 18103486.0000 - val_loss: 19402438.0000\n",
      "Epoch 241/300\n",
      "31/31 [==============================] - 0s 1ms/step - loss: 18156026.0000 - val_loss: 19421200.0000\n",
      "Epoch 242/300\n",
      "31/31 [==============================] - 0s 1ms/step - loss: 18108452.0000 - val_loss: 19402622.0000\n",
      "Epoch 243/300\n",
      "31/31 [==============================] - 0s 1ms/step - loss: 18109166.0000 - val_loss: 19421014.0000\n",
      "Epoch 244/300\n",
      "31/31 [==============================] - 0s 1ms/step - loss: 18133376.0000 - val_loss: 19424648.0000\n",
      "Epoch 245/300\n",
      "31/31 [==============================] - 0s 1ms/step - loss: 18159576.0000 - val_loss: 19370696.0000\n",
      "Epoch 246/300\n",
      "31/31 [==============================] - 0s 1ms/step - loss: 18115898.0000 - val_loss: 19389094.0000\n",
      "Epoch 247/300\n",
      "31/31 [==============================] - 0s 1ms/step - loss: 18074770.0000 - val_loss: 19471626.0000\n",
      "Epoch 248/300\n",
      "31/31 [==============================] - 0s 1ms/step - loss: 18123318.0000 - val_loss: 19389342.0000\n",
      "Epoch 249/300\n",
      "31/31 [==============================] - 0s 1ms/step - loss: 18065540.0000 - val_loss: 19328276.0000\n",
      "Epoch 250/300\n",
      "31/31 [==============================] - 0s 1ms/step - loss: 18046438.0000 - val_loss: 19360706.0000\n",
      "Epoch 251/300\n",
      "31/31 [==============================] - 0s 1ms/step - loss: 18047208.0000 - val_loss: 19455718.0000\n",
      "Epoch 252/300\n",
      "31/31 [==============================] - 0s 1ms/step - loss: 18072930.0000 - val_loss: 19321352.0000\n",
      "Epoch 253/300\n",
      "31/31 [==============================] - 0s 1ms/step - loss: 18000420.0000 - val_loss: 19380074.0000\n",
      "Epoch 254/300\n",
      "31/31 [==============================] - 0s 1ms/step - loss: 18034426.0000 - val_loss: 19284830.0000\n",
      "Epoch 255/300\n",
      "31/31 [==============================] - 0s 1ms/step - loss: 17991010.0000 - val_loss: 19309068.0000\n",
      "Epoch 256/300\n",
      "31/31 [==============================] - 0s 1ms/step - loss: 17977736.0000 - val_loss: 19263876.0000\n",
      "Epoch 257/300\n",
      "31/31 [==============================] - 0s 1ms/step - loss: 17962868.0000 - val_loss: 19248206.0000\n",
      "Epoch 258/300\n",
      "31/31 [==============================] - 0s 1ms/step - loss: 17948808.0000 - val_loss: 19258924.0000\n",
      "Epoch 259/300\n",
      "31/31 [==============================] - 0s 1ms/step - loss: 17963898.0000 - val_loss: 19259968.0000\n",
      "Epoch 260/300\n",
      "31/31 [==============================] - 0s 1ms/step - loss: 17981002.0000 - val_loss: 19265944.0000\n",
      "Epoch 261/300\n",
      "31/31 [==============================] - 0s 1ms/step - loss: 18007174.0000 - val_loss: 19210044.0000\n",
      "Epoch 262/300\n",
      "31/31 [==============================] - 0s 1ms/step - loss: 17920220.0000 - val_loss: 19194914.0000\n",
      "Epoch 263/300\n",
      "31/31 [==============================] - 0s 1ms/step - loss: 17906844.0000 - val_loss: 19214634.0000\n",
      "Epoch 264/300\n",
      "31/31 [==============================] - 0s 1ms/step - loss: 17925884.0000 - val_loss: 19201678.0000\n",
      "Epoch 265/300\n",
      "31/31 [==============================] - 0s 1ms/step - loss: 17909544.0000 - val_loss: 19161992.0000\n",
      "Epoch 266/300\n",
      "31/31 [==============================] - 0s 1ms/step - loss: 17931814.0000 - val_loss: 19147214.0000\n",
      "Epoch 267/300\n",
      "31/31 [==============================] - 0s 1ms/step - loss: 17872774.0000 - val_loss: 19174650.0000\n",
      "Epoch 268/300\n",
      "31/31 [==============================] - 0s 1ms/step - loss: 17872938.0000 - val_loss: 19132606.0000\n",
      "Epoch 269/300\n",
      "31/31 [==============================] - 0s 1ms/step - loss: 17870440.0000 - val_loss: 19167442.0000\n",
      "Epoch 270/300\n",
      "31/31 [==============================] - 0s 1ms/step - loss: 17913674.0000 - val_loss: 19215658.0000\n",
      "Epoch 271/300\n",
      "31/31 [==============================] - 0s 1ms/step - loss: 17870390.0000 - val_loss: 19108872.0000\n",
      "Epoch 272/300\n",
      "31/31 [==============================] - 0s 1ms/step - loss: 17839178.0000 - val_loss: 19154930.0000\n",
      "Epoch 273/300\n",
      "31/31 [==============================] - 0s 1ms/step - loss: 17890932.0000 - val_loss: 19114616.0000\n",
      "Epoch 274/300\n",
      "31/31 [==============================] - 0s 1ms/step - loss: 17864802.0000 - val_loss: 19093552.0000\n",
      "Epoch 275/300\n",
      "31/31 [==============================] - 0s 1ms/step - loss: 17850046.0000 - val_loss: 19108852.0000\n",
      "Epoch 276/300\n",
      "31/31 [==============================] - 0s 1ms/step - loss: 17817652.0000 - val_loss: 19146332.0000\n",
      "Epoch 277/300\n",
      "31/31 [==============================] - 0s 1ms/step - loss: 17842960.0000 - val_loss: 19076752.0000\n",
      "Epoch 278/300\n",
      "31/31 [==============================] - 0s 1ms/step - loss: 17871746.0000 - val_loss: 19078992.0000\n",
      "Epoch 279/300\n",
      "31/31 [==============================] - 0s 1ms/step - loss: 17903678.0000 - val_loss: 19225104.0000\n",
      "Epoch 280/300\n",
      "31/31 [==============================] - 0s 1ms/step - loss: 17771840.0000 - val_loss: 19124732.0000\n",
      "Epoch 281/300\n",
      "31/31 [==============================] - 0s 1ms/step - loss: 17801936.0000 - val_loss: 19175666.0000\n",
      "Epoch 282/300\n",
      "31/31 [==============================] - 0s 1ms/step - loss: 17764126.0000 - val_loss: 19080872.0000\n",
      "Epoch 283/300\n",
      "31/31 [==============================] - 0s 1ms/step - loss: 17772522.0000 - val_loss: 19041880.0000\n",
      "Epoch 284/300\n",
      "31/31 [==============================] - 0s 1ms/step - loss: 17776102.0000 - val_loss: 19159454.0000\n",
      "Epoch 285/300\n",
      "31/31 [==============================] - 0s 1ms/step - loss: 17777608.0000 - val_loss: 19112830.0000\n",
      "Epoch 286/300\n"
     ]
    },
    {
     "name": "stdout",
     "output_type": "stream",
     "text": [
      "31/31 [==============================] - 0s 1ms/step - loss: 17786684.0000 - val_loss: 19018550.0000\n",
      "Epoch 287/300\n",
      "31/31 [==============================] - 0s 1ms/step - loss: 17852820.0000 - val_loss: 19113808.0000\n",
      "Epoch 288/300\n",
      "31/31 [==============================] - 0s 1ms/step - loss: 17785060.0000 - val_loss: 19014720.0000\n",
      "Epoch 289/300\n",
      "31/31 [==============================] - 0s 1ms/step - loss: 17853878.0000 - val_loss: 19084696.0000\n",
      "Epoch 290/300\n",
      "31/31 [==============================] - 0s 1ms/step - loss: 17773714.0000 - val_loss: 19022834.0000\n",
      "Epoch 291/300\n",
      "31/31 [==============================] - 0s 1ms/step - loss: 17768754.0000 - val_loss: 19019896.0000\n",
      "Epoch 292/300\n",
      "31/31 [==============================] - 0s 1ms/step - loss: 17738390.0000 - val_loss: 18998752.0000\n",
      "Epoch 293/300\n",
      "31/31 [==============================] - 0s 1ms/step - loss: 17728842.0000 - val_loss: 19047118.0000\n",
      "Epoch 294/300\n",
      "31/31 [==============================] - 0s 1ms/step - loss: 17711806.0000 - val_loss: 19078608.0000\n",
      "Epoch 295/300\n",
      "31/31 [==============================] - 0s 1ms/step - loss: 17728812.0000 - val_loss: 19040694.0000\n",
      "Epoch 296/300\n",
      "31/31 [==============================] - 0s 1ms/step - loss: 17758456.0000 - val_loss: 18988118.0000\n",
      "Epoch 297/300\n",
      "31/31 [==============================] - 0s 1ms/step - loss: 17718042.0000 - val_loss: 18964436.0000\n",
      "Epoch 298/300\n",
      "31/31 [==============================] - 0s 1ms/step - loss: 17700898.0000 - val_loss: 18989720.0000\n",
      "Epoch 299/300\n",
      "31/31 [==============================] - 0s 1ms/step - loss: 17721826.0000 - val_loss: 18958840.0000\n",
      "Epoch 300/300\n",
      "31/31 [==============================] - 0s 1ms/step - loss: 17688664.0000 - val_loss: 18962016.0000\n"
     ]
    },
    {
     "data": {
      "text/plain": [
       "<tensorflow.python.keras.callbacks.History at 0x21882a2fa30>"
      ]
     },
     "execution_count": 39,
     "metadata": {},
     "output_type": "execute_result"
    }
   ],
   "source": [
    "model.fit(x=x_train,y=y_train,validation_data=(x_test,y_test),batch_size=300,epochs=300)"
   ]
  },
  {
   "cell_type": "code",
   "execution_count": 40,
   "id": "e5cd554a",
   "metadata": {},
   "outputs": [],
   "source": [
    "kayipVeri = pd.DataFrame(model.history.history)"
   ]
  },
  {
   "cell_type": "code",
   "execution_count": 41,
   "id": "32362bb2",
   "metadata": {},
   "outputs": [
    {
     "data": {
      "text/html": [
       "<div>\n",
       "<style scoped>\n",
       "    .dataframe tbody tr th:only-of-type {\n",
       "        vertical-align: middle;\n",
       "    }\n",
       "\n",
       "    .dataframe tbody tr th {\n",
       "        vertical-align: top;\n",
       "    }\n",
       "\n",
       "    .dataframe thead th {\n",
       "        text-align: right;\n",
       "    }\n",
       "</style>\n",
       "<table border=\"1\" class=\"dataframe\">\n",
       "  <thead>\n",
       "    <tr style=\"text-align: right;\">\n",
       "      <th></th>\n",
       "      <th>loss</th>\n",
       "      <th>val_loss</th>\n",
       "    </tr>\n",
       "  </thead>\n",
       "  <tbody>\n",
       "    <tr>\n",
       "      <th>0</th>\n",
       "      <td>672134656.0</td>\n",
       "      <td>688073728.0</td>\n",
       "    </tr>\n",
       "    <tr>\n",
       "      <th>1</th>\n",
       "      <td>672034688.0</td>\n",
       "      <td>687850560.0</td>\n",
       "    </tr>\n",
       "    <tr>\n",
       "      <th>2</th>\n",
       "      <td>671492928.0</td>\n",
       "      <td>686659584.0</td>\n",
       "    </tr>\n",
       "    <tr>\n",
       "      <th>3</th>\n",
       "      <td>668679488.0</td>\n",
       "      <td>680727552.0</td>\n",
       "    </tr>\n",
       "    <tr>\n",
       "      <th>4</th>\n",
       "      <td>656134848.0</td>\n",
       "      <td>656543936.0</td>\n",
       "    </tr>\n",
       "    <tr>\n",
       "      <th>...</th>\n",
       "      <td>...</td>\n",
       "      <td>...</td>\n",
       "    </tr>\n",
       "    <tr>\n",
       "      <th>295</th>\n",
       "      <td>17758456.0</td>\n",
       "      <td>18988118.0</td>\n",
       "    </tr>\n",
       "    <tr>\n",
       "      <th>296</th>\n",
       "      <td>17718042.0</td>\n",
       "      <td>18964436.0</td>\n",
       "    </tr>\n",
       "    <tr>\n",
       "      <th>297</th>\n",
       "      <td>17700898.0</td>\n",
       "      <td>18989720.0</td>\n",
       "    </tr>\n",
       "    <tr>\n",
       "      <th>298</th>\n",
       "      <td>17721826.0</td>\n",
       "      <td>18958840.0</td>\n",
       "    </tr>\n",
       "    <tr>\n",
       "      <th>299</th>\n",
       "      <td>17688664.0</td>\n",
       "      <td>18962016.0</td>\n",
       "    </tr>\n",
       "  </tbody>\n",
       "</table>\n",
       "<p>300 rows × 2 columns</p>\n",
       "</div>"
      ],
      "text/plain": [
       "            loss     val_loss\n",
       "0    672134656.0  688073728.0\n",
       "1    672034688.0  687850560.0\n",
       "2    671492928.0  686659584.0\n",
       "3    668679488.0  680727552.0\n",
       "4    656134848.0  656543936.0\n",
       "..           ...          ...\n",
       "295   17758456.0   18988118.0\n",
       "296   17718042.0   18964436.0\n",
       "297   17700898.0   18989720.0\n",
       "298   17721826.0   18958840.0\n",
       "299   17688664.0   18962016.0\n",
       "\n",
       "[300 rows x 2 columns]"
      ]
     },
     "execution_count": 41,
     "metadata": {},
     "output_type": "execute_result"
    }
   ],
   "source": [
    "kayipVeri"
   ]
  },
  {
   "cell_type": "code",
   "execution_count": 42,
   "id": "33a112fd",
   "metadata": {},
   "outputs": [
    {
     "data": {
      "text/plain": [
       "<AxesSubplot:>"
      ]
     },
     "execution_count": 42,
     "metadata": {},
     "output_type": "execute_result"
    },
    {
     "data": {
      "image/png": "[encoded data removed]",
      "text/plain": [
       "<Figure size 432x288 with 1 Axes>"
      ]
     },
     "metadata": {
      "needs_background": "light"
     },
     "output_type": "display_data"
    }
   ],
   "source": [
    "kayipVeri.plot()"
   ]
  },
  {
   "cell_type": "code",
   "execution_count": 43,
   "id": "0f5fcdc1",
   "metadata": {},
   "outputs": [],
   "source": [
    "from sklearn.metrics import mean_squared_error, mean_absolute_error"
   ]
  },
  {
   "cell_type": "code",
   "execution_count": 44,
   "id": "ada891f1",
   "metadata": {},
   "outputs": [],
   "source": [
    "tahminDizisi = model.predict(x_test)"
   ]
  },
  {
   "cell_type": "code",
   "execution_count": 45,
   "id": "ff98c0d6",
   "metadata": {},
   "outputs": [
    {
     "data": {
      "text/plain": [
       "array([[22401.918],\n",
       "       [22591.52 ],\n",
       "       [26225.166],\n",
       "       ...,\n",
       "       [26574.695],\n",
       "       [13865.638],\n",
       "       [25297.457]], dtype=float32)"
      ]
     },
     "execution_count": 45,
     "metadata": {},
     "output_type": "execute_result"
    }
   ],
   "source": [
    "tahminDizisi"
   ]
  },
  {
   "cell_type": "code",
   "execution_count": 46,
   "id": "f11a30b5",
   "metadata": {},
   "outputs": [
    {
     "data": {
      "text/plain": [
       "3100.16448807025"
      ]
     },
     "execution_count": 46,
     "metadata": {},
     "output_type": "execute_result"
    }
   ],
   "source": [
    "mean_absolute_error(y_test,tahminDizisi)"
   ]
  },
  {
   "cell_type": "code",
   "execution_count": 47,
   "id": "a6f21c98",
   "metadata": {},
   "outputs": [
    {
     "data": {
      "text/plain": [
       "Text(0, 0.5, 'tahminDizisi')"
      ]
     },
     "execution_count": 47,
     "metadata": {},
     "output_type": "execute_result"
    },
    {
     "data": {
      "image/png": "[encoded data removed]",
      "text/plain": [
       "<Figure size 432x288 with 1 Axes>"
      ]
     },
     "metadata": {
      "needs_background": "light"
     },
     "output_type": "display_data"
    }
   ],
   "source": [
    "plt.scatter(y_test,tahminDizisi)\n",
    "plt.plot(y_test,y_test,\"g-*\")\n",
    "plt.xlabel(\"y_test\")\n",
    "plt.ylabel(\"tahminDizisi\")"
   ]
  },
  {
   "cell_type": "code",
   "execution_count": 48,
   "id": "0ab1c06c",
   "metadata": {},
   "outputs": [
    {
     "data": {
      "text/plain": [
       "year           2020.0\n",
       "price         65980.0\n",
       "mileage        3999.0\n",
       "tax             145.0\n",
       "mpg              28.0\n",
       "engineSize        4.0\n",
       "Name: 3191, dtype: float64"
      ]
     },
     "execution_count": 48,
     "metadata": {},
     "output_type": "execute_result"
    }
   ],
   "source": [
    "dataFrame.iloc[2]"
   ]
  },
  {
   "cell_type": "code",
   "execution_count": 49,
   "id": "d86239eb",
   "metadata": {},
   "outputs": [],
   "source": [
    "yeniArabaSeries = dataFrame.drop(\"price\",axis=1).iloc[2]"
   ]
  },
  {
   "cell_type": "code",
   "execution_count": 50,
   "id": "57fab8a7",
   "metadata": {},
   "outputs": [
    {
     "data": {
      "text/plain": [
       "year          2020.0\n",
       "mileage       3999.0\n",
       "tax            145.0\n",
       "mpg             28.0\n",
       "engineSize       4.0\n",
       "Name: 3191, dtype: float64"
      ]
     },
     "execution_count": 50,
     "metadata": {},
     "output_type": "execute_result"
    }
   ],
   "source": [
    "yeniArabaSeries"
   ]
  },
  {
   "cell_type": "code",
   "execution_count": 51,
   "id": "fe62d621",
   "metadata": {},
   "outputs": [],
   "source": [
    "yeniArabaSeries = scaler.transform(yeniArabaSeries.values.reshape(-1,5))"
   ]
  },
  {
   "cell_type": "code",
   "execution_count": 54,
   "id": "a8007732",
   "metadata": {},
   "outputs": [
    {
     "data": {
      "text/plain": [
       "array([[63943.223]], dtype=float32)"
      ]
     },
     "execution_count": 54,
     "metadata": {},
     "output_type": "execute_result"
    }
   ],
   "source": [
    "model.predict(yeniArabaSeries)"
   ]
  },
  {
   "cell_type": "code",
   "execution_count": null,
   "id": "77b03d20",
   "metadata": {},
   "outputs": [],
   "source": []
  }
 ],
 "metadata": {
  "kernelspec": {
   "display_name": "Python 3",
   "language": "python",
   "name": "python3"
  },
  "language_info": {
   "codemirror_mode": {
    "name": "ipython",
    "version": 3
   },
   "file_extension": ".py",
   "mimetype": "text/x-python",
   "name": "python",
   "nbconvert_exporter": "python",
   "pygments_lexer": "ipython3",
   "version": "3.8.8"
  }
 },
 "nbformat": 4,
 "nbformat_minor": 5
}
