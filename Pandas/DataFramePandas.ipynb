{
 "cells": [
  {
   "cell_type": "code",
   "execution_count": 1,
   "id": "5f83b2d9",
   "metadata": {},
   "outputs": [],
   "source": [
    "import numpy as np\n",
    "import pandas as pd"
   ]
  },
  {
   "cell_type": "code",
   "execution_count": 2,
   "id": "ce21dbf5",
   "metadata": {},
   "outputs": [],
   "source": [
    "data = np.random.randn(4,3)"
   ]
  },
  {
   "cell_type": "code",
   "execution_count": 3,
   "id": "cbac0f17",
   "metadata": {},
   "outputs": [
    {
     "data": {
      "text/plain": [
       "array([[-0.15607518, -0.39056632, -0.49376641],\n",
       "       [ 1.18329421, -0.67840421,  0.4923816 ],\n",
       "       [ 0.01787355,  0.53459689, -1.0089015 ],\n",
       "       [-0.91158134,  1.00405769, -0.98724389]])"
      ]
     },
     "execution_count": 3,
     "metadata": {},
     "output_type": "execute_result"
    }
   ],
   "source": [
    "data"
   ]
  },
  {
   "cell_type": "code",
   "execution_count": 4,
   "id": "93326d3d",
   "metadata": {},
   "outputs": [],
   "source": [
    "dataFrame=pd.DataFrame(data)"
   ]
  },
  {
   "cell_type": "code",
   "execution_count": 5,
   "id": "c8ef3786",
   "metadata": {},
   "outputs": [
    {
     "data": {
      "text/plain": [
       "pandas.core.series.Series"
      ]
     },
     "execution_count": 5,
     "metadata": {},
     "output_type": "execute_result"
    }
   ],
   "source": [
    "type(dataFrame[0])"
   ]
  },
  {
   "cell_type": "code",
   "execution_count": 6,
   "id": "fd8a656f",
   "metadata": {},
   "outputs": [
    {
     "data": {
      "text/html": [
       "<div>\n",
       "<style scoped>\n",
       "    .dataframe tbody tr th:only-of-type {\n",
       "        vertical-align: middle;\n",
       "    }\n",
       "\n",
       "    .dataframe tbody tr th {\n",
       "        vertical-align: top;\n",
       "    }\n",
       "\n",
       "    .dataframe thead th {\n",
       "        text-align: right;\n",
       "    }\n",
       "</style>\n",
       "<table border=\"1\" class=\"dataframe\">\n",
       "  <thead>\n",
       "    <tr style=\"text-align: right;\">\n",
       "      <th></th>\n",
       "      <th>0</th>\n",
       "      <th>1</th>\n",
       "      <th>2</th>\n",
       "    </tr>\n",
       "  </thead>\n",
       "  <tbody>\n",
       "    <tr>\n",
       "      <th>0</th>\n",
       "      <td>-0.156075</td>\n",
       "      <td>-0.390566</td>\n",
       "      <td>-0.493766</td>\n",
       "    </tr>\n",
       "    <tr>\n",
       "      <th>1</th>\n",
       "      <td>1.183294</td>\n",
       "      <td>-0.678404</td>\n",
       "      <td>0.492382</td>\n",
       "    </tr>\n",
       "    <tr>\n",
       "      <th>2</th>\n",
       "      <td>0.017874</td>\n",
       "      <td>0.534597</td>\n",
       "      <td>-1.008901</td>\n",
       "    </tr>\n",
       "    <tr>\n",
       "      <th>3</th>\n",
       "      <td>-0.911581</td>\n",
       "      <td>1.004058</td>\n",
       "      <td>-0.987244</td>\n",
       "    </tr>\n",
       "  </tbody>\n",
       "</table>\n",
       "</div>"
      ],
      "text/plain": [
       "          0         1         2\n",
       "0 -0.156075 -0.390566 -0.493766\n",
       "1  1.183294 -0.678404  0.492382\n",
       "2  0.017874  0.534597 -1.008901\n",
       "3 -0.911581  1.004058 -0.987244"
      ]
     },
     "execution_count": 6,
     "metadata": {},
     "output_type": "execute_result"
    }
   ],
   "source": [
    "dataFrame"
   ]
  },
  {
   "cell_type": "code",
   "execution_count": 7,
   "id": "7db8807c",
   "metadata": {},
   "outputs": [],
   "source": [
    "yeniDataFrame=pd.DataFrame(data,index=[\"Yakup\",\"Yusuf\",\"Yunus\",\"Ahmet\"],columns=[\"Maas\",\"Yas\",\"Çalışma Saati\"])"
   ]
  },
  {
   "cell_type": "code",
   "execution_count": 8,
   "id": "6b97e81e",
   "metadata": {},
   "outputs": [
    {
     "data": {
      "text/html": [
       "<div>\n",
       "<style scoped>\n",
       "    .dataframe tbody tr th:only-of-type {\n",
       "        vertical-align: middle;\n",
       "    }\n",
       "\n",
       "    .dataframe tbody tr th {\n",
       "        vertical-align: top;\n",
       "    }\n",
       "\n",
       "    .dataframe thead th {\n",
       "        text-align: right;\n",
       "    }\n",
       "</style>\n",
       "<table border=\"1\" class=\"dataframe\">\n",
       "  <thead>\n",
       "    <tr style=\"text-align: right;\">\n",
       "      <th></th>\n",
       "      <th>Maas</th>\n",
       "      <th>Yas</th>\n",
       "      <th>Çalışma Saati</th>\n",
       "    </tr>\n",
       "  </thead>\n",
       "  <tbody>\n",
       "    <tr>\n",
       "      <th>Yakup</th>\n",
       "      <td>-0.156075</td>\n",
       "      <td>-0.390566</td>\n",
       "      <td>-0.493766</td>\n",
       "    </tr>\n",
       "    <tr>\n",
       "      <th>Yusuf</th>\n",
       "      <td>1.183294</td>\n",
       "      <td>-0.678404</td>\n",
       "      <td>0.492382</td>\n",
       "    </tr>\n",
       "    <tr>\n",
       "      <th>Yunus</th>\n",
       "      <td>0.017874</td>\n",
       "      <td>0.534597</td>\n",
       "      <td>-1.008901</td>\n",
       "    </tr>\n",
       "    <tr>\n",
       "      <th>Ahmet</th>\n",
       "      <td>-0.911581</td>\n",
       "      <td>1.004058</td>\n",
       "      <td>-0.987244</td>\n",
       "    </tr>\n",
       "  </tbody>\n",
       "</table>\n",
       "</div>"
      ],
      "text/plain": [
       "           Maas       Yas  Çalışma Saati\n",
       "Yakup -0.156075 -0.390566      -0.493766\n",
       "Yusuf  1.183294 -0.678404       0.492382\n",
       "Yunus  0.017874  0.534597      -1.008901\n",
       "Ahmet -0.911581  1.004058      -0.987244"
      ]
     },
     "execution_count": 8,
     "metadata": {},
     "output_type": "execute_result"
    }
   ],
   "source": [
    "yeniDataFrame"
   ]
  },
  {
   "cell_type": "code",
   "execution_count": 9,
   "id": "c8708085",
   "metadata": {},
   "outputs": [
    {
     "data": {
      "text/plain": [
       "4"
      ]
     },
     "execution_count": 9,
     "metadata": {},
     "output_type": "execute_result"
    }
   ],
   "source": [
    "len(yeniDataFrame)"
   ]
  },
  {
   "cell_type": "code",
   "execution_count": 10,
   "id": "2b66ee94",
   "metadata": {},
   "outputs": [
    {
     "data": {
      "text/plain": [
       "Yakup   -0.390566\n",
       "Yusuf   -0.678404\n",
       "Yunus    0.534597\n",
       "Ahmet    1.004058\n",
       "Name: Yas, dtype: float64"
      ]
     },
     "execution_count": 10,
     "metadata": {},
     "output_type": "execute_result"
    }
   ],
   "source": [
    "yeniDataFrame[\"Yas\"]"
   ]
  },
  {
   "cell_type": "code",
   "execution_count": 11,
   "id": "4bdf7168",
   "metadata": {},
   "outputs": [
    {
     "data": {
      "text/html": [
       "<div>\n",
       "<style scoped>\n",
       "    .dataframe tbody tr th:only-of-type {\n",
       "        vertical-align: middle;\n",
       "    }\n",
       "\n",
       "    .dataframe tbody tr th {\n",
       "        vertical-align: top;\n",
       "    }\n",
       "\n",
       "    .dataframe thead th {\n",
       "        text-align: right;\n",
       "    }\n",
       "</style>\n",
       "<table border=\"1\" class=\"dataframe\">\n",
       "  <thead>\n",
       "    <tr style=\"text-align: right;\">\n",
       "      <th></th>\n",
       "      <th>Maas</th>\n",
       "      <th>Yas</th>\n",
       "    </tr>\n",
       "  </thead>\n",
       "  <tbody>\n",
       "    <tr>\n",
       "      <th>Yakup</th>\n",
       "      <td>-0.156075</td>\n",
       "      <td>-0.390566</td>\n",
       "    </tr>\n",
       "    <tr>\n",
       "      <th>Yusuf</th>\n",
       "      <td>1.183294</td>\n",
       "      <td>-0.678404</td>\n",
       "    </tr>\n",
       "    <tr>\n",
       "      <th>Yunus</th>\n",
       "      <td>0.017874</td>\n",
       "      <td>0.534597</td>\n",
       "    </tr>\n",
       "    <tr>\n",
       "      <th>Ahmet</th>\n",
       "      <td>-0.911581</td>\n",
       "      <td>1.004058</td>\n",
       "    </tr>\n",
       "  </tbody>\n",
       "</table>\n",
       "</div>"
      ],
      "text/plain": [
       "           Maas       Yas\n",
       "Yakup -0.156075 -0.390566\n",
       "Yusuf  1.183294 -0.678404\n",
       "Yunus  0.017874  0.534597\n",
       "Ahmet -0.911581  1.004058"
      ]
     },
     "execution_count": 11,
     "metadata": {},
     "output_type": "execute_result"
    }
   ],
   "source": [
    "yeniDataFrame[[\"Maas\",\"Yas\"]]"
   ]
  },
  {
   "cell_type": "code",
   "execution_count": 12,
   "id": "699f4a96",
   "metadata": {},
   "outputs": [
    {
     "data": {
      "text/plain": [
       "Maas            -0.156075\n",
       "Yas             -0.390566\n",
       "Çalışma Saati   -0.493766\n",
       "Name: Yakup, dtype: float64"
      ]
     },
     "execution_count": 12,
     "metadata": {},
     "output_type": "execute_result"
    }
   ],
   "source": [
    "yeniDataFrame.loc[\"Yakup\"]"
   ]
  },
  {
   "cell_type": "code",
   "execution_count": 13,
   "id": "be624307",
   "metadata": {},
   "outputs": [
    {
     "data": {
      "text/plain": [
       "Maas            -0.156075\n",
       "Yas             -0.390566\n",
       "Çalışma Saati   -0.493766\n",
       "Name: Yakup, dtype: float64"
      ]
     },
     "execution_count": 13,
     "metadata": {},
     "output_type": "execute_result"
    }
   ],
   "source": [
    "yeniDataFrame.iloc[0]"
   ]
  },
  {
   "cell_type": "code",
   "execution_count": 14,
   "id": "6003a0e2",
   "metadata": {},
   "outputs": [],
   "source": [
    "yeniDataFrame[\"Emeklilik Yasi\"] = yeniDataFrame[\"Yas\"] + yeniDataFrame[\"Yas\"]"
   ]
  },
  {
   "cell_type": "code",
   "execution_count": 15,
   "id": "901a4e6c",
   "metadata": {},
   "outputs": [
    {
     "data": {
      "text/html": [
       "<div>\n",
       "<style scoped>\n",
       "    .dataframe tbody tr th:only-of-type {\n",
       "        vertical-align: middle;\n",
       "    }\n",
       "\n",
       "    .dataframe tbody tr th {\n",
       "        vertical-align: top;\n",
       "    }\n",
       "\n",
       "    .dataframe thead th {\n",
       "        text-align: right;\n",
       "    }\n",
       "</style>\n",
       "<table border=\"1\" class=\"dataframe\">\n",
       "  <thead>\n",
       "    <tr style=\"text-align: right;\">\n",
       "      <th></th>\n",
       "      <th>Maas</th>\n",
       "      <th>Yas</th>\n",
       "      <th>Çalışma Saati</th>\n",
       "      <th>Emeklilik Yasi</th>\n",
       "    </tr>\n",
       "  </thead>\n",
       "  <tbody>\n",
       "    <tr>\n",
       "      <th>Yakup</th>\n",
       "      <td>-0.156075</td>\n",
       "      <td>-0.390566</td>\n",
       "      <td>-0.493766</td>\n",
       "      <td>-0.781133</td>\n",
       "    </tr>\n",
       "    <tr>\n",
       "      <th>Yusuf</th>\n",
       "      <td>1.183294</td>\n",
       "      <td>-0.678404</td>\n",
       "      <td>0.492382</td>\n",
       "      <td>-1.356808</td>\n",
       "    </tr>\n",
       "    <tr>\n",
       "      <th>Yunus</th>\n",
       "      <td>0.017874</td>\n",
       "      <td>0.534597</td>\n",
       "      <td>-1.008901</td>\n",
       "      <td>1.069194</td>\n",
       "    </tr>\n",
       "    <tr>\n",
       "      <th>Ahmet</th>\n",
       "      <td>-0.911581</td>\n",
       "      <td>1.004058</td>\n",
       "      <td>-0.987244</td>\n",
       "      <td>2.008115</td>\n",
       "    </tr>\n",
       "  </tbody>\n",
       "</table>\n",
       "</div>"
      ],
      "text/plain": [
       "           Maas       Yas  Çalışma Saati  Emeklilik Yasi\n",
       "Yakup -0.156075 -0.390566      -0.493766       -0.781133\n",
       "Yusuf  1.183294 -0.678404       0.492382       -1.356808\n",
       "Yunus  0.017874  0.534597      -1.008901        1.069194\n",
       "Ahmet -0.911581  1.004058      -0.987244        2.008115"
      ]
     },
     "execution_count": 15,
     "metadata": {},
     "output_type": "execute_result"
    }
   ],
   "source": [
    "yeniDataFrame"
   ]
  },
  {
   "cell_type": "code",
   "execution_count": 16,
   "id": "5d019c76",
   "metadata": {},
   "outputs": [
    {
     "data": {
      "text/html": [
       "<div>\n",
       "<style scoped>\n",
       "    .dataframe tbody tr th:only-of-type {\n",
       "        vertical-align: middle;\n",
       "    }\n",
       "\n",
       "    .dataframe tbody tr th {\n",
       "        vertical-align: top;\n",
       "    }\n",
       "\n",
       "    .dataframe thead th {\n",
       "        text-align: right;\n",
       "    }\n",
       "</style>\n",
       "<table border=\"1\" class=\"dataframe\">\n",
       "  <thead>\n",
       "    <tr style=\"text-align: right;\">\n",
       "      <th></th>\n",
       "      <th>Maas</th>\n",
       "      <th>Yas</th>\n",
       "      <th>Çalışma Saati</th>\n",
       "    </tr>\n",
       "  </thead>\n",
       "  <tbody>\n",
       "    <tr>\n",
       "      <th>Yakup</th>\n",
       "      <td>-0.156075</td>\n",
       "      <td>-0.390566</td>\n",
       "      <td>-0.493766</td>\n",
       "    </tr>\n",
       "    <tr>\n",
       "      <th>Yusuf</th>\n",
       "      <td>1.183294</td>\n",
       "      <td>-0.678404</td>\n",
       "      <td>0.492382</td>\n",
       "    </tr>\n",
       "    <tr>\n",
       "      <th>Yunus</th>\n",
       "      <td>0.017874</td>\n",
       "      <td>0.534597</td>\n",
       "      <td>-1.008901</td>\n",
       "    </tr>\n",
       "    <tr>\n",
       "      <th>Ahmet</th>\n",
       "      <td>-0.911581</td>\n",
       "      <td>1.004058</td>\n",
       "      <td>-0.987244</td>\n",
       "    </tr>\n",
       "  </tbody>\n",
       "</table>\n",
       "</div>"
      ],
      "text/plain": [
       "           Maas       Yas  Çalışma Saati\n",
       "Yakup -0.156075 -0.390566      -0.493766\n",
       "Yusuf  1.183294 -0.678404       0.492382\n",
       "Yunus  0.017874  0.534597      -1.008901\n",
       "Ahmet -0.911581  1.004058      -0.987244"
      ]
     },
     "execution_count": 16,
     "metadata": {},
     "output_type": "execute_result"
    }
   ],
   "source": [
    "yeniDataFrame.drop(\"Emeklilik Yasi\",axis=1)"
   ]
  },
  {
   "cell_type": "code",
   "execution_count": 17,
   "id": "a4fc71c7",
   "metadata": {},
   "outputs": [
    {
     "data": {
      "text/html": [
       "<div>\n",
       "<style scoped>\n",
       "    .dataframe tbody tr th:only-of-type {\n",
       "        vertical-align: middle;\n",
       "    }\n",
       "\n",
       "    .dataframe tbody tr th {\n",
       "        vertical-align: top;\n",
       "    }\n",
       "\n",
       "    .dataframe thead th {\n",
       "        text-align: right;\n",
       "    }\n",
       "</style>\n",
       "<table border=\"1\" class=\"dataframe\">\n",
       "  <thead>\n",
       "    <tr style=\"text-align: right;\">\n",
       "      <th></th>\n",
       "      <th>Maas</th>\n",
       "      <th>Yas</th>\n",
       "      <th>Çalışma Saati</th>\n",
       "      <th>Emeklilik Yasi</th>\n",
       "    </tr>\n",
       "  </thead>\n",
       "  <tbody>\n",
       "    <tr>\n",
       "      <th>Yakup</th>\n",
       "      <td>-0.156075</td>\n",
       "      <td>-0.390566</td>\n",
       "      <td>-0.493766</td>\n",
       "      <td>-0.781133</td>\n",
       "    </tr>\n",
       "    <tr>\n",
       "      <th>Yusuf</th>\n",
       "      <td>1.183294</td>\n",
       "      <td>-0.678404</td>\n",
       "      <td>0.492382</td>\n",
       "      <td>-1.356808</td>\n",
       "    </tr>\n",
       "    <tr>\n",
       "      <th>Yunus</th>\n",
       "      <td>0.017874</td>\n",
       "      <td>0.534597</td>\n",
       "      <td>-1.008901</td>\n",
       "      <td>1.069194</td>\n",
       "    </tr>\n",
       "  </tbody>\n",
       "</table>\n",
       "</div>"
      ],
      "text/plain": [
       "           Maas       Yas  Çalışma Saati  Emeklilik Yasi\n",
       "Yakup -0.156075 -0.390566      -0.493766       -0.781133\n",
       "Yusuf  1.183294 -0.678404       0.492382       -1.356808\n",
       "Yunus  0.017874  0.534597      -1.008901        1.069194"
      ]
     },
     "execution_count": 17,
     "metadata": {},
     "output_type": "execute_result"
    }
   ],
   "source": [
    "yeniDataFrame.drop(\"Ahmet\",axis=0)"
   ]
  },
  {
   "cell_type": "code",
   "execution_count": 18,
   "id": "6327206b",
   "metadata": {},
   "outputs": [
    {
     "data": {
      "text/html": [
       "<div>\n",
       "<style scoped>\n",
       "    .dataframe tbody tr th:only-of-type {\n",
       "        vertical-align: middle;\n",
       "    }\n",
       "\n",
       "    .dataframe tbody tr th {\n",
       "        vertical-align: top;\n",
       "    }\n",
       "\n",
       "    .dataframe thead th {\n",
       "        text-align: right;\n",
       "    }\n",
       "</style>\n",
       "<table border=\"1\" class=\"dataframe\">\n",
       "  <thead>\n",
       "    <tr style=\"text-align: right;\">\n",
       "      <th></th>\n",
       "      <th>Maas</th>\n",
       "      <th>Yas</th>\n",
       "      <th>Çalışma Saati</th>\n",
       "      <th>Emeklilik Yasi</th>\n",
       "    </tr>\n",
       "  </thead>\n",
       "  <tbody>\n",
       "    <tr>\n",
       "      <th>Yakup</th>\n",
       "      <td>-0.156075</td>\n",
       "      <td>-0.390566</td>\n",
       "      <td>-0.493766</td>\n",
       "      <td>-0.781133</td>\n",
       "    </tr>\n",
       "    <tr>\n",
       "      <th>Yusuf</th>\n",
       "      <td>1.183294</td>\n",
       "      <td>-0.678404</td>\n",
       "      <td>0.492382</td>\n",
       "      <td>-1.356808</td>\n",
       "    </tr>\n",
       "    <tr>\n",
       "      <th>Yunus</th>\n",
       "      <td>0.017874</td>\n",
       "      <td>0.534597</td>\n",
       "      <td>-1.008901</td>\n",
       "      <td>1.069194</td>\n",
       "    </tr>\n",
       "    <tr>\n",
       "      <th>Ahmet</th>\n",
       "      <td>-0.911581</td>\n",
       "      <td>1.004058</td>\n",
       "      <td>-0.987244</td>\n",
       "      <td>2.008115</td>\n",
       "    </tr>\n",
       "  </tbody>\n",
       "</table>\n",
       "</div>"
      ],
      "text/plain": [
       "           Maas       Yas  Çalışma Saati  Emeklilik Yasi\n",
       "Yakup -0.156075 -0.390566      -0.493766       -0.781133\n",
       "Yusuf  1.183294 -0.678404       0.492382       -1.356808\n",
       "Yunus  0.017874  0.534597      -1.008901        1.069194\n",
       "Ahmet -0.911581  1.004058      -0.987244        2.008115"
      ]
     },
     "execution_count": 18,
     "metadata": {},
     "output_type": "execute_result"
    }
   ],
   "source": [
    "yeniDataFrame"
   ]
  },
  {
   "cell_type": "code",
   "execution_count": 19,
   "id": "89e042ab",
   "metadata": {},
   "outputs": [],
   "source": [
    "yeniDataFrame.drop(\"Emeklilik Yasi\",axis=1,inplace=True)"
   ]
  },
  {
   "cell_type": "code",
   "execution_count": 20,
   "id": "82bab03c",
   "metadata": {},
   "outputs": [
    {
     "data": {
      "text/html": [
       "<div>\n",
       "<style scoped>\n",
       "    .dataframe tbody tr th:only-of-type {\n",
       "        vertical-align: middle;\n",
       "    }\n",
       "\n",
       "    .dataframe tbody tr th {\n",
       "        vertical-align: top;\n",
       "    }\n",
       "\n",
       "    .dataframe thead th {\n",
       "        text-align: right;\n",
       "    }\n",
       "</style>\n",
       "<table border=\"1\" class=\"dataframe\">\n",
       "  <thead>\n",
       "    <tr style=\"text-align: right;\">\n",
       "      <th></th>\n",
       "      <th>Maas</th>\n",
       "      <th>Yas</th>\n",
       "      <th>Çalışma Saati</th>\n",
       "    </tr>\n",
       "  </thead>\n",
       "  <tbody>\n",
       "    <tr>\n",
       "      <th>Yakup</th>\n",
       "      <td>-0.156075</td>\n",
       "      <td>-0.390566</td>\n",
       "      <td>-0.493766</td>\n",
       "    </tr>\n",
       "    <tr>\n",
       "      <th>Yusuf</th>\n",
       "      <td>1.183294</td>\n",
       "      <td>-0.678404</td>\n",
       "      <td>0.492382</td>\n",
       "    </tr>\n",
       "    <tr>\n",
       "      <th>Yunus</th>\n",
       "      <td>0.017874</td>\n",
       "      <td>0.534597</td>\n",
       "      <td>-1.008901</td>\n",
       "    </tr>\n",
       "    <tr>\n",
       "      <th>Ahmet</th>\n",
       "      <td>-0.911581</td>\n",
       "      <td>1.004058</td>\n",
       "      <td>-0.987244</td>\n",
       "    </tr>\n",
       "  </tbody>\n",
       "</table>\n",
       "</div>"
      ],
      "text/plain": [
       "           Maas       Yas  Çalışma Saati\n",
       "Yakup -0.156075 -0.390566      -0.493766\n",
       "Yusuf  1.183294 -0.678404       0.492382\n",
       "Yunus  0.017874  0.534597      -1.008901\n",
       "Ahmet -0.911581  1.004058      -0.987244"
      ]
     },
     "execution_count": 20,
     "metadata": {},
     "output_type": "execute_result"
    }
   ],
   "source": [
    "yeniDataFrame"
   ]
  },
  {
   "cell_type": "code",
   "execution_count": 21,
   "id": "26cfe7bc",
   "metadata": {},
   "outputs": [
    {
     "data": {
      "text/plain": [
       "-0.3905663163812846"
      ]
     },
     "execution_count": 21,
     "metadata": {},
     "output_type": "execute_result"
    }
   ],
   "source": [
    "yeniDataFrame.loc[\"Yakup\"][\"Yas\"]"
   ]
  },
  {
   "cell_type": "code",
   "execution_count": 22,
   "id": "d6d27031",
   "metadata": {},
   "outputs": [
    {
     "data": {
      "text/plain": [
       "-0.15607517948717672"
      ]
     },
     "execution_count": 22,
     "metadata": {},
     "output_type": "execute_result"
    }
   ],
   "source": [
    "yeniDataFrame.loc[\"Yakup\",\"Maas\"]"
   ]
  },
  {
   "cell_type": "code",
   "execution_count": 23,
   "id": "7d161630",
   "metadata": {},
   "outputs": [
    {
     "data": {
      "text/html": [
       "<div>\n",
       "<style scoped>\n",
       "    .dataframe tbody tr th:only-of-type {\n",
       "        vertical-align: middle;\n",
       "    }\n",
       "\n",
       "    .dataframe tbody tr th {\n",
       "        vertical-align: top;\n",
       "    }\n",
       "\n",
       "    .dataframe thead th {\n",
       "        text-align: right;\n",
       "    }\n",
       "</style>\n",
       "<table border=\"1\" class=\"dataframe\">\n",
       "  <thead>\n",
       "    <tr style=\"text-align: right;\">\n",
       "      <th></th>\n",
       "      <th>Maas</th>\n",
       "      <th>Yas</th>\n",
       "      <th>Çalışma Saati</th>\n",
       "    </tr>\n",
       "  </thead>\n",
       "  <tbody>\n",
       "    <tr>\n",
       "      <th>Yakup</th>\n",
       "      <td>-0.156075</td>\n",
       "      <td>-0.390566</td>\n",
       "      <td>-0.493766</td>\n",
       "    </tr>\n",
       "    <tr>\n",
       "      <th>Yusuf</th>\n",
       "      <td>1.183294</td>\n",
       "      <td>-0.678404</td>\n",
       "      <td>0.492382</td>\n",
       "    </tr>\n",
       "    <tr>\n",
       "      <th>Yunus</th>\n",
       "      <td>0.017874</td>\n",
       "      <td>0.534597</td>\n",
       "      <td>-1.008901</td>\n",
       "    </tr>\n",
       "    <tr>\n",
       "      <th>Ahmet</th>\n",
       "      <td>-0.911581</td>\n",
       "      <td>1.004058</td>\n",
       "      <td>-0.987244</td>\n",
       "    </tr>\n",
       "  </tbody>\n",
       "</table>\n",
       "</div>"
      ],
      "text/plain": [
       "           Maas       Yas  Çalışma Saati\n",
       "Yakup -0.156075 -0.390566      -0.493766\n",
       "Yusuf  1.183294 -0.678404       0.492382\n",
       "Yunus  0.017874  0.534597      -1.008901\n",
       "Ahmet -0.911581  1.004058      -0.987244"
      ]
     },
     "execution_count": 23,
     "metadata": {},
     "output_type": "execute_result"
    }
   ],
   "source": [
    "yeniDataFrame"
   ]
  },
  {
   "cell_type": "code",
   "execution_count": 24,
   "id": "9e28c93b",
   "metadata": {},
   "outputs": [],
   "source": [
    "booleanFrame = yeniDataFrame < 0"
   ]
  },
  {
   "cell_type": "code",
   "execution_count": 25,
   "id": "ce3a2cf4",
   "metadata": {},
   "outputs": [
    {
     "data": {
      "text/html": [
       "<div>\n",
       "<style scoped>\n",
       "    .dataframe tbody tr th:only-of-type {\n",
       "        vertical-align: middle;\n",
       "    }\n",
       "\n",
       "    .dataframe tbody tr th {\n",
       "        vertical-align: top;\n",
       "    }\n",
       "\n",
       "    .dataframe thead th {\n",
       "        text-align: right;\n",
       "    }\n",
       "</style>\n",
       "<table border=\"1\" class=\"dataframe\">\n",
       "  <thead>\n",
       "    <tr style=\"text-align: right;\">\n",
       "      <th></th>\n",
       "      <th>Maas</th>\n",
       "      <th>Yas</th>\n",
       "      <th>Çalışma Saati</th>\n",
       "    </tr>\n",
       "  </thead>\n",
       "  <tbody>\n",
       "    <tr>\n",
       "      <th>Yakup</th>\n",
       "      <td>True</td>\n",
       "      <td>True</td>\n",
       "      <td>True</td>\n",
       "    </tr>\n",
       "    <tr>\n",
       "      <th>Yusuf</th>\n",
       "      <td>False</td>\n",
       "      <td>True</td>\n",
       "      <td>False</td>\n",
       "    </tr>\n",
       "    <tr>\n",
       "      <th>Yunus</th>\n",
       "      <td>False</td>\n",
       "      <td>False</td>\n",
       "      <td>True</td>\n",
       "    </tr>\n",
       "    <tr>\n",
       "      <th>Ahmet</th>\n",
       "      <td>True</td>\n",
       "      <td>False</td>\n",
       "      <td>True</td>\n",
       "    </tr>\n",
       "  </tbody>\n",
       "</table>\n",
       "</div>"
      ],
      "text/plain": [
       "        Maas    Yas  Çalışma Saati\n",
       "Yakup   True   True           True\n",
       "Yusuf  False   True          False\n",
       "Yunus  False  False           True\n",
       "Ahmet   True  False           True"
      ]
     },
     "execution_count": 25,
     "metadata": {},
     "output_type": "execute_result"
    }
   ],
   "source": [
    "booleanFrame"
   ]
  },
  {
   "cell_type": "code",
   "execution_count": 26,
   "id": "56ec39d1",
   "metadata": {},
   "outputs": [
    {
     "data": {
      "text/html": [
       "<div>\n",
       "<style scoped>\n",
       "    .dataframe tbody tr th:only-of-type {\n",
       "        vertical-align: middle;\n",
       "    }\n",
       "\n",
       "    .dataframe tbody tr th {\n",
       "        vertical-align: top;\n",
       "    }\n",
       "\n",
       "    .dataframe thead th {\n",
       "        text-align: right;\n",
       "    }\n",
       "</style>\n",
       "<table border=\"1\" class=\"dataframe\">\n",
       "  <thead>\n",
       "    <tr style=\"text-align: right;\">\n",
       "      <th></th>\n",
       "      <th>Maas</th>\n",
       "      <th>Yas</th>\n",
       "      <th>Çalışma Saati</th>\n",
       "    </tr>\n",
       "  </thead>\n",
       "  <tbody>\n",
       "    <tr>\n",
       "      <th>Yakup</th>\n",
       "      <td>-0.156075</td>\n",
       "      <td>-0.390566</td>\n",
       "      <td>-0.493766</td>\n",
       "    </tr>\n",
       "    <tr>\n",
       "      <th>Yusuf</th>\n",
       "      <td>1.183294</td>\n",
       "      <td>-0.678404</td>\n",
       "      <td>0.492382</td>\n",
       "    </tr>\n",
       "    <tr>\n",
       "      <th>Yunus</th>\n",
       "      <td>0.017874</td>\n",
       "      <td>0.534597</td>\n",
       "      <td>-1.008901</td>\n",
       "    </tr>\n",
       "    <tr>\n",
       "      <th>Ahmet</th>\n",
       "      <td>-0.911581</td>\n",
       "      <td>1.004058</td>\n",
       "      <td>-0.987244</td>\n",
       "    </tr>\n",
       "  </tbody>\n",
       "</table>\n",
       "</div>"
      ],
      "text/plain": [
       "           Maas       Yas  Çalışma Saati\n",
       "Yakup -0.156075 -0.390566      -0.493766\n",
       "Yusuf  1.183294 -0.678404       0.492382\n",
       "Yunus  0.017874  0.534597      -1.008901\n",
       "Ahmet -0.911581  1.004058      -0.987244"
      ]
     },
     "execution_count": 26,
     "metadata": {},
     "output_type": "execute_result"
    }
   ],
   "source": [
    "yeniDataFrame"
   ]
  },
  {
   "cell_type": "code",
   "execution_count": 27,
   "id": "67b7a949",
   "metadata": {},
   "outputs": [
    {
     "data": {
      "text/html": [
       "<div>\n",
       "<style scoped>\n",
       "    .dataframe tbody tr th:only-of-type {\n",
       "        vertical-align: middle;\n",
       "    }\n",
       "\n",
       "    .dataframe tbody tr th {\n",
       "        vertical-align: top;\n",
       "    }\n",
       "\n",
       "    .dataframe thead th {\n",
       "        text-align: right;\n",
       "    }\n",
       "</style>\n",
       "<table border=\"1\" class=\"dataframe\">\n",
       "  <thead>\n",
       "    <tr style=\"text-align: right;\">\n",
       "      <th></th>\n",
       "      <th>Maas</th>\n",
       "      <th>Yas</th>\n",
       "      <th>Çalışma Saati</th>\n",
       "    </tr>\n",
       "  </thead>\n",
       "  <tbody>\n",
       "    <tr>\n",
       "      <th>Yakup</th>\n",
       "      <td>-0.156075</td>\n",
       "      <td>-0.390566</td>\n",
       "      <td>-0.493766</td>\n",
       "    </tr>\n",
       "    <tr>\n",
       "      <th>Yusuf</th>\n",
       "      <td>NaN</td>\n",
       "      <td>-0.678404</td>\n",
       "      <td>NaN</td>\n",
       "    </tr>\n",
       "    <tr>\n",
       "      <th>Yunus</th>\n",
       "      <td>NaN</td>\n",
       "      <td>NaN</td>\n",
       "      <td>-1.008901</td>\n",
       "    </tr>\n",
       "    <tr>\n",
       "      <th>Ahmet</th>\n",
       "      <td>-0.911581</td>\n",
       "      <td>NaN</td>\n",
       "      <td>-0.987244</td>\n",
       "    </tr>\n",
       "  </tbody>\n",
       "</table>\n",
       "</div>"
      ],
      "text/plain": [
       "           Maas       Yas  Çalışma Saati\n",
       "Yakup -0.156075 -0.390566      -0.493766\n",
       "Yusuf       NaN -0.678404            NaN\n",
       "Yunus       NaN       NaN      -1.008901\n",
       "Ahmet -0.911581       NaN      -0.987244"
      ]
     },
     "execution_count": 27,
     "metadata": {},
     "output_type": "execute_result"
    }
   ],
   "source": [
    "yeniDataFrame[booleanFrame]"
   ]
  },
  {
   "cell_type": "code",
   "execution_count": 28,
   "id": "295acb7c",
   "metadata": {},
   "outputs": [
    {
     "data": {
      "text/html": [
       "<div>\n",
       "<style scoped>\n",
       "    .dataframe tbody tr th:only-of-type {\n",
       "        vertical-align: middle;\n",
       "    }\n",
       "\n",
       "    .dataframe tbody tr th {\n",
       "        vertical-align: top;\n",
       "    }\n",
       "\n",
       "    .dataframe thead th {\n",
       "        text-align: right;\n",
       "    }\n",
       "</style>\n",
       "<table border=\"1\" class=\"dataframe\">\n",
       "  <thead>\n",
       "    <tr style=\"text-align: right;\">\n",
       "      <th></th>\n",
       "      <th>Maas</th>\n",
       "      <th>Yas</th>\n",
       "      <th>Çalışma Saati</th>\n",
       "    </tr>\n",
       "  </thead>\n",
       "  <tbody>\n",
       "    <tr>\n",
       "      <th>Yunus</th>\n",
       "      <td>0.017874</td>\n",
       "      <td>0.534597</td>\n",
       "      <td>-1.008901</td>\n",
       "    </tr>\n",
       "    <tr>\n",
       "      <th>Ahmet</th>\n",
       "      <td>-0.911581</td>\n",
       "      <td>1.004058</td>\n",
       "      <td>-0.987244</td>\n",
       "    </tr>\n",
       "  </tbody>\n",
       "</table>\n",
       "</div>"
      ],
      "text/plain": [
       "           Maas       Yas  Çalışma Saati\n",
       "Yunus  0.017874  0.534597      -1.008901\n",
       "Ahmet -0.911581  1.004058      -0.987244"
      ]
     },
     "execution_count": 28,
     "metadata": {},
     "output_type": "execute_result"
    }
   ],
   "source": [
    "yeniDataFrame[yeniDataFrame[\"Yas\"]>0]"
   ]
  },
  {
   "cell_type": "code",
   "execution_count": 29,
   "id": "43f08fc7",
   "metadata": {},
   "outputs": [
    {
     "data": {
      "text/html": [
       "<div>\n",
       "<style scoped>\n",
       "    .dataframe tbody tr th:only-of-type {\n",
       "        vertical-align: middle;\n",
       "    }\n",
       "\n",
       "    .dataframe tbody tr th {\n",
       "        vertical-align: top;\n",
       "    }\n",
       "\n",
       "    .dataframe thead th {\n",
       "        text-align: right;\n",
       "    }\n",
       "</style>\n",
       "<table border=\"1\" class=\"dataframe\">\n",
       "  <thead>\n",
       "    <tr style=\"text-align: right;\">\n",
       "      <th></th>\n",
       "      <th>index</th>\n",
       "      <th>Maas</th>\n",
       "      <th>Yas</th>\n",
       "      <th>Çalışma Saati</th>\n",
       "    </tr>\n",
       "  </thead>\n",
       "  <tbody>\n",
       "    <tr>\n",
       "      <th>0</th>\n",
       "      <td>Yakup</td>\n",
       "      <td>-0.156075</td>\n",
       "      <td>-0.390566</td>\n",
       "      <td>-0.493766</td>\n",
       "    </tr>\n",
       "    <tr>\n",
       "      <th>1</th>\n",
       "      <td>Yusuf</td>\n",
       "      <td>1.183294</td>\n",
       "      <td>-0.678404</td>\n",
       "      <td>0.492382</td>\n",
       "    </tr>\n",
       "    <tr>\n",
       "      <th>2</th>\n",
       "      <td>Yunus</td>\n",
       "      <td>0.017874</td>\n",
       "      <td>0.534597</td>\n",
       "      <td>-1.008901</td>\n",
       "    </tr>\n",
       "    <tr>\n",
       "      <th>3</th>\n",
       "      <td>Ahmet</td>\n",
       "      <td>-0.911581</td>\n",
       "      <td>1.004058</td>\n",
       "      <td>-0.987244</td>\n",
       "    </tr>\n",
       "  </tbody>\n",
       "</table>\n",
       "</div>"
      ],
      "text/plain": [
       "   index      Maas       Yas  Çalışma Saati\n",
       "0  Yakup -0.156075 -0.390566      -0.493766\n",
       "1  Yusuf  1.183294 -0.678404       0.492382\n",
       "2  Yunus  0.017874  0.534597      -1.008901\n",
       "3  Ahmet -0.911581  1.004058      -0.987244"
      ]
     },
     "execution_count": 29,
     "metadata": {},
     "output_type": "execute_result"
    }
   ],
   "source": [
    "yeniDataFrame.reset_index()"
   ]
  },
  {
   "cell_type": "code",
   "execution_count": 30,
   "id": "fddf9c0f",
   "metadata": {},
   "outputs": [],
   "source": [
    "yeniIndexListesi=[\"Yak\",\"Yus\",\"Yun\",\"Ahm\"]"
   ]
  },
  {
   "cell_type": "code",
   "execution_count": 31,
   "id": "44286629",
   "metadata": {},
   "outputs": [],
   "source": [
    "yeniDataFrame[\"YeniIndexListesi\"] = yeniIndexListesi"
   ]
  },
  {
   "cell_type": "code",
   "execution_count": 32,
   "id": "63f11afd",
   "metadata": {},
   "outputs": [
    {
     "data": {
      "text/html": [
       "<div>\n",
       "<style scoped>\n",
       "    .dataframe tbody tr th:only-of-type {\n",
       "        vertical-align: middle;\n",
       "    }\n",
       "\n",
       "    .dataframe tbody tr th {\n",
       "        vertical-align: top;\n",
       "    }\n",
       "\n",
       "    .dataframe thead th {\n",
       "        text-align: right;\n",
       "    }\n",
       "</style>\n",
       "<table border=\"1\" class=\"dataframe\">\n",
       "  <thead>\n",
       "    <tr style=\"text-align: right;\">\n",
       "      <th></th>\n",
       "      <th>Maas</th>\n",
       "      <th>Yas</th>\n",
       "      <th>Çalışma Saati</th>\n",
       "      <th>YeniIndexListesi</th>\n",
       "    </tr>\n",
       "  </thead>\n",
       "  <tbody>\n",
       "    <tr>\n",
       "      <th>Yakup</th>\n",
       "      <td>-0.156075</td>\n",
       "      <td>-0.390566</td>\n",
       "      <td>-0.493766</td>\n",
       "      <td>Yak</td>\n",
       "    </tr>\n",
       "    <tr>\n",
       "      <th>Yusuf</th>\n",
       "      <td>1.183294</td>\n",
       "      <td>-0.678404</td>\n",
       "      <td>0.492382</td>\n",
       "      <td>Yus</td>\n",
       "    </tr>\n",
       "    <tr>\n",
       "      <th>Yunus</th>\n",
       "      <td>0.017874</td>\n",
       "      <td>0.534597</td>\n",
       "      <td>-1.008901</td>\n",
       "      <td>Yun</td>\n",
       "    </tr>\n",
       "    <tr>\n",
       "      <th>Ahmet</th>\n",
       "      <td>-0.911581</td>\n",
       "      <td>1.004058</td>\n",
       "      <td>-0.987244</td>\n",
       "      <td>Ahm</td>\n",
       "    </tr>\n",
       "  </tbody>\n",
       "</table>\n",
       "</div>"
      ],
      "text/plain": [
       "           Maas       Yas  Çalışma Saati YeniIndexListesi\n",
       "Yakup -0.156075 -0.390566      -0.493766              Yak\n",
       "Yusuf  1.183294 -0.678404       0.492382              Yus\n",
       "Yunus  0.017874  0.534597      -1.008901              Yun\n",
       "Ahmet -0.911581  1.004058      -0.987244              Ahm"
      ]
     },
     "execution_count": 32,
     "metadata": {},
     "output_type": "execute_result"
    }
   ],
   "source": [
    "yeniDataFrame"
   ]
  },
  {
   "cell_type": "code",
   "execution_count": 33,
   "id": "10eacc1d",
   "metadata": {},
   "outputs": [
    {
     "data": {
      "text/html": [
       "<div>\n",
       "<style scoped>\n",
       "    .dataframe tbody tr th:only-of-type {\n",
       "        vertical-align: middle;\n",
       "    }\n",
       "\n",
       "    .dataframe tbody tr th {\n",
       "        vertical-align: top;\n",
       "    }\n",
       "\n",
       "    .dataframe thead th {\n",
       "        text-align: right;\n",
       "    }\n",
       "</style>\n",
       "<table border=\"1\" class=\"dataframe\">\n",
       "  <thead>\n",
       "    <tr style=\"text-align: right;\">\n",
       "      <th></th>\n",
       "      <th>Maas</th>\n",
       "      <th>Yas</th>\n",
       "      <th>Çalışma Saati</th>\n",
       "    </tr>\n",
       "    <tr>\n",
       "      <th>YeniIndexListesi</th>\n",
       "      <th></th>\n",
       "      <th></th>\n",
       "      <th></th>\n",
       "    </tr>\n",
       "  </thead>\n",
       "  <tbody>\n",
       "    <tr>\n",
       "      <th>Yak</th>\n",
       "      <td>-0.156075</td>\n",
       "      <td>-0.390566</td>\n",
       "      <td>-0.493766</td>\n",
       "    </tr>\n",
       "    <tr>\n",
       "      <th>Yus</th>\n",
       "      <td>1.183294</td>\n",
       "      <td>-0.678404</td>\n",
       "      <td>0.492382</td>\n",
       "    </tr>\n",
       "    <tr>\n",
       "      <th>Yun</th>\n",
       "      <td>0.017874</td>\n",
       "      <td>0.534597</td>\n",
       "      <td>-1.008901</td>\n",
       "    </tr>\n",
       "    <tr>\n",
       "      <th>Ahm</th>\n",
       "      <td>-0.911581</td>\n",
       "      <td>1.004058</td>\n",
       "      <td>-0.987244</td>\n",
       "    </tr>\n",
       "  </tbody>\n",
       "</table>\n",
       "</div>"
      ],
      "text/plain": [
       "                      Maas       Yas  Çalışma Saati\n",
       "YeniIndexListesi                                   \n",
       "Yak              -0.156075 -0.390566      -0.493766\n",
       "Yus               1.183294 -0.678404       0.492382\n",
       "Yun               0.017874  0.534597      -1.008901\n",
       "Ahm              -0.911581  1.004058      -0.987244"
      ]
     },
     "execution_count": 33,
     "metadata": {},
     "output_type": "execute_result"
    }
   ],
   "source": [
    "yeniDataFrame.set_index(\"YeniIndexListesi\")"
   ]
  },
  {
   "cell_type": "code",
   "execution_count": 34,
   "id": "3971d2a0",
   "metadata": {},
   "outputs": [
    {
     "data": {
      "text/html": [
       "<div>\n",
       "<style scoped>\n",
       "    .dataframe tbody tr th:only-of-type {\n",
       "        vertical-align: middle;\n",
       "    }\n",
       "\n",
       "    .dataframe tbody tr th {\n",
       "        vertical-align: top;\n",
       "    }\n",
       "\n",
       "    .dataframe thead th {\n",
       "        text-align: right;\n",
       "    }\n",
       "</style>\n",
       "<table border=\"1\" class=\"dataframe\">\n",
       "  <thead>\n",
       "    <tr style=\"text-align: right;\">\n",
       "      <th></th>\n",
       "      <th>Maas</th>\n",
       "      <th>Yas</th>\n",
       "      <th>Çalışma Saati</th>\n",
       "      <th>YeniIndexListesi</th>\n",
       "    </tr>\n",
       "  </thead>\n",
       "  <tbody>\n",
       "    <tr>\n",
       "      <th>Yakup</th>\n",
       "      <td>-0.156075</td>\n",
       "      <td>-0.390566</td>\n",
       "      <td>-0.493766</td>\n",
       "      <td>Yak</td>\n",
       "    </tr>\n",
       "    <tr>\n",
       "      <th>Yusuf</th>\n",
       "      <td>1.183294</td>\n",
       "      <td>-0.678404</td>\n",
       "      <td>0.492382</td>\n",
       "      <td>Yus</td>\n",
       "    </tr>\n",
       "    <tr>\n",
       "      <th>Yunus</th>\n",
       "      <td>0.017874</td>\n",
       "      <td>0.534597</td>\n",
       "      <td>-1.008901</td>\n",
       "      <td>Yun</td>\n",
       "    </tr>\n",
       "    <tr>\n",
       "      <th>Ahmet</th>\n",
       "      <td>-0.911581</td>\n",
       "      <td>1.004058</td>\n",
       "      <td>-0.987244</td>\n",
       "      <td>Ahm</td>\n",
       "    </tr>\n",
       "  </tbody>\n",
       "</table>\n",
       "</div>"
      ],
      "text/plain": [
       "           Maas       Yas  Çalışma Saati YeniIndexListesi\n",
       "Yakup -0.156075 -0.390566      -0.493766              Yak\n",
       "Yusuf  1.183294 -0.678404       0.492382              Yus\n",
       "Yunus  0.017874  0.534597      -1.008901              Yun\n",
       "Ahmet -0.911581  1.004058      -0.987244              Ahm"
      ]
     },
     "execution_count": 34,
     "metadata": {},
     "output_type": "execute_result"
    }
   ],
   "source": [
    "yeniDataFrame"
   ]
  },
  {
   "cell_type": "code",
   "execution_count": 35,
   "id": "16ebd1e7",
   "metadata": {},
   "outputs": [],
   "source": [
    "yeniDataFrame.set_index(\"YeniIndexListesi\",inplace=True)"
   ]
  },
  {
   "cell_type": "code",
   "execution_count": 36,
   "id": "0ca1e4b1",
   "metadata": {},
   "outputs": [
    {
     "data": {
      "text/html": [
       "<div>\n",
       "<style scoped>\n",
       "    .dataframe tbody tr th:only-of-type {\n",
       "        vertical-align: middle;\n",
       "    }\n",
       "\n",
       "    .dataframe tbody tr th {\n",
       "        vertical-align: top;\n",
       "    }\n",
       "\n",
       "    .dataframe thead th {\n",
       "        text-align: right;\n",
       "    }\n",
       "</style>\n",
       "<table border=\"1\" class=\"dataframe\">\n",
       "  <thead>\n",
       "    <tr style=\"text-align: right;\">\n",
       "      <th></th>\n",
       "      <th>Maas</th>\n",
       "      <th>Yas</th>\n",
       "      <th>Çalışma Saati</th>\n",
       "    </tr>\n",
       "    <tr>\n",
       "      <th>YeniIndexListesi</th>\n",
       "      <th></th>\n",
       "      <th></th>\n",
       "      <th></th>\n",
       "    </tr>\n",
       "  </thead>\n",
       "  <tbody>\n",
       "    <tr>\n",
       "      <th>Yak</th>\n",
       "      <td>-0.156075</td>\n",
       "      <td>-0.390566</td>\n",
       "      <td>-0.493766</td>\n",
       "    </tr>\n",
       "    <tr>\n",
       "      <th>Yus</th>\n",
       "      <td>1.183294</td>\n",
       "      <td>-0.678404</td>\n",
       "      <td>0.492382</td>\n",
       "    </tr>\n",
       "    <tr>\n",
       "      <th>Yun</th>\n",
       "      <td>0.017874</td>\n",
       "      <td>0.534597</td>\n",
       "      <td>-1.008901</td>\n",
       "    </tr>\n",
       "    <tr>\n",
       "      <th>Ahm</th>\n",
       "      <td>-0.911581</td>\n",
       "      <td>1.004058</td>\n",
       "      <td>-0.987244</td>\n",
       "    </tr>\n",
       "  </tbody>\n",
       "</table>\n",
       "</div>"
      ],
      "text/plain": [
       "                      Maas       Yas  Çalışma Saati\n",
       "YeniIndexListesi                                   \n",
       "Yak              -0.156075 -0.390566      -0.493766\n",
       "Yus               1.183294 -0.678404       0.492382\n",
       "Yun               0.017874  0.534597      -1.008901\n",
       "Ahm              -0.911581  1.004058      -0.987244"
      ]
     },
     "execution_count": 36,
     "metadata": {},
     "output_type": "execute_result"
    }
   ],
   "source": [
    "yeniDataFrame"
   ]
  },
  {
   "cell_type": "code",
   "execution_count": 37,
   "id": "97a6426d",
   "metadata": {},
   "outputs": [
    {
     "data": {
      "text/plain": [
       "Maas            -0.156075\n",
       "Yas             -0.390566\n",
       "Çalışma Saati   -0.493766\n",
       "Name: Yak, dtype: float64"
      ]
     },
     "execution_count": 37,
     "metadata": {},
     "output_type": "execute_result"
    }
   ],
   "source": [
    "yeniDataFrame.loc[\"Yak\"]"
   ]
  },
  {
   "cell_type": "markdown",
   "id": "5fb1a3bd",
   "metadata": {},
   "source": [
    "## Multi Index"
   ]
  },
  {
   "cell_type": "code",
   "execution_count": 38,
   "id": "637ab28d",
   "metadata": {},
   "outputs": [],
   "source": [
    "ilkIndeksler = [\"Simpson\",\"Simpson\",\"Simpson\",\"South Park\", \"South Park\", \"South Park\"]"
   ]
  },
  {
   "cell_type": "code",
   "execution_count": 39,
   "id": "bac3a13a",
   "metadata": {},
   "outputs": [],
   "source": [
    "icIndeksler = [\"Homer\",\"Bart\",\"Marge\",\"Cartman\",\"Kenny\",\"Kyle\"]"
   ]
  },
  {
   "cell_type": "code",
   "execution_count": 40,
   "id": "a5318ebc",
   "metadata": {},
   "outputs": [],
   "source": [
    "birlesmisIndeks = list(zip(ilkIndeksler,icIndeksler))"
   ]
  },
  {
   "cell_type": "code",
   "execution_count": 41,
   "id": "7df246ed",
   "metadata": {},
   "outputs": [
    {
     "data": {
      "text/plain": [
       "[('Simpson', 'Homer'),\n",
       " ('Simpson', 'Bart'),\n",
       " ('Simpson', 'Marge'),\n",
       " ('South Park', 'Cartman'),\n",
       " ('South Park', 'Kenny'),\n",
       " ('South Park', 'Kyle')]"
      ]
     },
     "execution_count": 41,
     "metadata": {},
     "output_type": "execute_result"
    }
   ],
   "source": [
    "birlesmisIndeks"
   ]
  },
  {
   "cell_type": "code",
   "execution_count": 42,
   "id": "57bbe3e5",
   "metadata": {},
   "outputs": [],
   "source": [
    "birlesmisIndeks = pd.MultiIndex.from_tuples(birlesmisIndeks)"
   ]
  },
  {
   "cell_type": "code",
   "execution_count": 43,
   "id": "707329c2",
   "metadata": {},
   "outputs": [
    {
     "data": {
      "text/plain": [
       "MultiIndex([(   'Simpson',   'Homer'),\n",
       "            (   'Simpson',    'Bart'),\n",
       "            (   'Simpson',   'Marge'),\n",
       "            ('South Park', 'Cartman'),\n",
       "            ('South Park',   'Kenny'),\n",
       "            ('South Park',    'Kyle')],\n",
       "           )"
      ]
     },
     "execution_count": 43,
     "metadata": {},
     "output_type": "execute_result"
    }
   ],
   "source": [
    "birlesmisIndeks"
   ]
  },
  {
   "cell_type": "code",
   "execution_count": 44,
   "id": "eee03f79",
   "metadata": {},
   "outputs": [],
   "source": [
    "benimCizgiFilmListem = [[40,\"A\"],[10,\"B\"],[30,\"C\"],[9,\"D\"],[10,\"E\"],[11,\"F\"]]"
   ]
  },
  {
   "cell_type": "code",
   "execution_count": 45,
   "id": "9fcddf61",
   "metadata": {},
   "outputs": [],
   "source": [
    "cizgiFilmNumpyDizisi = np.array(benimCizgiFilmListem)"
   ]
  },
  {
   "cell_type": "code",
   "execution_count": 48,
   "id": "b13db0c5",
   "metadata": {},
   "outputs": [],
   "source": [
    "cizgiFilmDataFrame = pd.DataFrame(cizgiFilmNumpyDizisi,index=birlesmisIndeks,columns=[\"Yas\",\"Meslek\"])"
   ]
  },
  {
   "cell_type": "code",
   "execution_count": 49,
   "id": "d93e9450",
   "metadata": {},
   "outputs": [
    {
     "data": {
      "text/html": [
       "<div>\n",
       "<style scoped>\n",
       "    .dataframe tbody tr th:only-of-type {\n",
       "        vertical-align: middle;\n",
       "    }\n",
       "\n",
       "    .dataframe tbody tr th {\n",
       "        vertical-align: top;\n",
       "    }\n",
       "\n",
       "    .dataframe thead th {\n",
       "        text-align: right;\n",
       "    }\n",
       "</style>\n",
       "<table border=\"1\" class=\"dataframe\">\n",
       "  <thead>\n",
       "    <tr style=\"text-align: right;\">\n",
       "      <th></th>\n",
       "      <th></th>\n",
       "      <th>Yas</th>\n",
       "      <th>Meslek</th>\n",
       "    </tr>\n",
       "  </thead>\n",
       "  <tbody>\n",
       "    <tr>\n",
       "      <th rowspan=\"3\" valign=\"top\">Simpson</th>\n",
       "      <th>Homer</th>\n",
       "      <td>40</td>\n",
       "      <td>A</td>\n",
       "    </tr>\n",
       "    <tr>\n",
       "      <th>Bart</th>\n",
       "      <td>10</td>\n",
       "      <td>B</td>\n",
       "    </tr>\n",
       "    <tr>\n",
       "      <th>Marge</th>\n",
       "      <td>30</td>\n",
       "      <td>C</td>\n",
       "    </tr>\n",
       "    <tr>\n",
       "      <th rowspan=\"3\" valign=\"top\">South Park</th>\n",
       "      <th>Cartman</th>\n",
       "      <td>9</td>\n",
       "      <td>D</td>\n",
       "    </tr>\n",
       "    <tr>\n",
       "      <th>Kenny</th>\n",
       "      <td>10</td>\n",
       "      <td>E</td>\n",
       "    </tr>\n",
       "    <tr>\n",
       "      <th>Kyle</th>\n",
       "      <td>11</td>\n",
       "      <td>F</td>\n",
       "    </tr>\n",
       "  </tbody>\n",
       "</table>\n",
       "</div>"
      ],
      "text/plain": [
       "                   Yas Meslek\n",
       "Simpson    Homer    40      A\n",
       "           Bart     10      B\n",
       "           Marge    30      C\n",
       "South Park Cartman   9      D\n",
       "           Kenny    10      E\n",
       "           Kyle     11      F"
      ]
     },
     "execution_count": 49,
     "metadata": {},
     "output_type": "execute_result"
    }
   ],
   "source": [
    "cizgiFilmDataFrame"
   ]
  },
  {
   "cell_type": "code",
   "execution_count": 50,
   "id": "a67974d3",
   "metadata": {},
   "outputs": [
    {
     "data": {
      "text/html": [
       "<div>\n",
       "<style scoped>\n",
       "    .dataframe tbody tr th:only-of-type {\n",
       "        vertical-align: middle;\n",
       "    }\n",
       "\n",
       "    .dataframe tbody tr th {\n",
       "        vertical-align: top;\n",
       "    }\n",
       "\n",
       "    .dataframe thead th {\n",
       "        text-align: right;\n",
       "    }\n",
       "</style>\n",
       "<table border=\"1\" class=\"dataframe\">\n",
       "  <thead>\n",
       "    <tr style=\"text-align: right;\">\n",
       "      <th></th>\n",
       "      <th>Yas</th>\n",
       "      <th>Meslek</th>\n",
       "    </tr>\n",
       "  </thead>\n",
       "  <tbody>\n",
       "    <tr>\n",
       "      <th>Homer</th>\n",
       "      <td>40</td>\n",
       "      <td>A</td>\n",
       "    </tr>\n",
       "    <tr>\n",
       "      <th>Bart</th>\n",
       "      <td>10</td>\n",
       "      <td>B</td>\n",
       "    </tr>\n",
       "    <tr>\n",
       "      <th>Marge</th>\n",
       "      <td>30</td>\n",
       "      <td>C</td>\n",
       "    </tr>\n",
       "  </tbody>\n",
       "</table>\n",
       "</div>"
      ],
      "text/plain": [
       "      Yas Meslek\n",
       "Homer  40      A\n",
       "Bart   10      B\n",
       "Marge  30      C"
      ]
     },
     "execution_count": 50,
     "metadata": {},
     "output_type": "execute_result"
    }
   ],
   "source": [
    "cizgiFilmDataFrame.loc[\"Simpson\"]"
   ]
  },
  {
   "cell_type": "code",
   "execution_count": 51,
   "id": "226659bf",
   "metadata": {},
   "outputs": [
    {
     "data": {
      "text/plain": [
       "Yas       11\n",
       "Meslek     F\n",
       "Name: Kyle, dtype: object"
      ]
     },
     "execution_count": 51,
     "metadata": {},
     "output_type": "execute_result"
    }
   ],
   "source": [
    "cizgiFilmDataFrame.loc[\"South Park\"].loc[\"Kyle\"]"
   ]
  },
  {
   "cell_type": "code",
   "execution_count": 52,
   "id": "080464dd",
   "metadata": {},
   "outputs": [],
   "source": [
    "cizgiFilmDataFrame.index.names=[\"Film Adı\",\"İsim\"]"
   ]
  },
  {
   "cell_type": "code",
   "execution_count": 53,
   "id": "0e23d052",
   "metadata": {},
   "outputs": [
    {
     "data": {
      "text/html": [
       "<div>\n",
       "<style scoped>\n",
       "    .dataframe tbody tr th:only-of-type {\n",
       "        vertical-align: middle;\n",
       "    }\n",
       "\n",
       "    .dataframe tbody tr th {\n",
       "        vertical-align: top;\n",
       "    }\n",
       "\n",
       "    .dataframe thead th {\n",
       "        text-align: right;\n",
       "    }\n",
       "</style>\n",
       "<table border=\"1\" class=\"dataframe\">\n",
       "  <thead>\n",
       "    <tr style=\"text-align: right;\">\n",
       "      <th></th>\n",
       "      <th></th>\n",
       "      <th>Yas</th>\n",
       "      <th>Meslek</th>\n",
       "    </tr>\n",
       "    <tr>\n",
       "      <th>Film Adı</th>\n",
       "      <th>İsim</th>\n",
       "      <th></th>\n",
       "      <th></th>\n",
       "    </tr>\n",
       "  </thead>\n",
       "  <tbody>\n",
       "    <tr>\n",
       "      <th rowspan=\"3\" valign=\"top\">Simpson</th>\n",
       "      <th>Homer</th>\n",
       "      <td>40</td>\n",
       "      <td>A</td>\n",
       "    </tr>\n",
       "    <tr>\n",
       "      <th>Bart</th>\n",
       "      <td>10</td>\n",
       "      <td>B</td>\n",
       "    </tr>\n",
       "    <tr>\n",
       "      <th>Marge</th>\n",
       "      <td>30</td>\n",
       "      <td>C</td>\n",
       "    </tr>\n",
       "    <tr>\n",
       "      <th rowspan=\"3\" valign=\"top\">South Park</th>\n",
       "      <th>Cartman</th>\n",
       "      <td>9</td>\n",
       "      <td>D</td>\n",
       "    </tr>\n",
       "    <tr>\n",
       "      <th>Kenny</th>\n",
       "      <td>10</td>\n",
       "      <td>E</td>\n",
       "    </tr>\n",
       "    <tr>\n",
       "      <th>Kyle</th>\n",
       "      <td>11</td>\n",
       "      <td>F</td>\n",
       "    </tr>\n",
       "  </tbody>\n",
       "</table>\n",
       "</div>"
      ],
      "text/plain": [
       "                   Yas Meslek\n",
       "Film Adı   İsim              \n",
       "Simpson    Homer    40      A\n",
       "           Bart     10      B\n",
       "           Marge    30      C\n",
       "South Park Cartman   9      D\n",
       "           Kenny    10      E\n",
       "           Kyle     11      F"
      ]
     },
     "execution_count": 53,
     "metadata": {},
     "output_type": "execute_result"
    }
   ],
   "source": [
    "cizgiFilmDataFrame"
   ]
  },
  {
   "cell_type": "code",
   "execution_count": null,
   "id": "479be05b",
   "metadata": {},
   "outputs": [],
   "source": []
  }
 ],
 "metadata": {
  "kernelspec": {
   "display_name": "Python 3",
   "language": "python",
   "name": "python3"
  },
  "language_info": {
   "codemirror_mode": {
    "name": "ipython",
    "version": 3
   },
   "file_extension": ".py",
   "mimetype": "text/x-python",
   "name": "python",
   "nbconvert_exporter": "python",
   "pygments_lexer": "ipython3",
   "version": "3.8.8"
  }
 },
 "nbformat": 4,
 "nbformat_minor": 5
}
