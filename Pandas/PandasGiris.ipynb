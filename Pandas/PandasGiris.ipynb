{
 "cells": [
  {
   "cell_type": "code",
   "execution_count": 1,
   "id": "19d4487a",
   "metadata": {},
   "outputs": [],
   "source": [
    "import numpy as np\n",
    "import pandas as pd"
   ]
  },
  {
   "cell_type": "markdown",
   "id": "310591d4",
   "metadata": {},
   "source": [
    "## Series"
   ]
  },
  {
   "cell_type": "code",
   "execution_count": 2,
   "id": "9c241894",
   "metadata": {},
   "outputs": [],
   "source": [
    "benimSozluk={\"Yakup\":20,\"Burak\":30,\"Ahmet\":25}"
   ]
  },
  {
   "cell_type": "code",
   "execution_count": 3,
   "id": "79cc66dc",
   "metadata": {},
   "outputs": [
    {
     "data": {
      "text/plain": [
       "Yakup    20\n",
       "Burak    30\n",
       "Ahmet    25\n",
       "dtype: int64"
      ]
     },
     "execution_count": 3,
     "metadata": {},
     "output_type": "execute_result"
    }
   ],
   "source": [
    "pd.Series(benimSozluk)"
   ]
  },
  {
   "cell_type": "code",
   "execution_count": 4,
   "id": "d2dd2859",
   "metadata": {},
   "outputs": [],
   "source": [
    "yaslar=[50,40,30]\n",
    "isimler=[\"Yakup\",\"Burak\",\"Ahmet\"]"
   ]
  },
  {
   "cell_type": "code",
   "execution_count": 5,
   "id": "ce7d57fe",
   "metadata": {},
   "outputs": [
    {
     "data": {
      "text/plain": [
       "0    50\n",
       "1    40\n",
       "2    30\n",
       "dtype: int64"
      ]
     },
     "execution_count": 5,
     "metadata": {},
     "output_type": "execute_result"
    }
   ],
   "source": [
    "pd.Series(yaslar)"
   ]
  },
  {
   "cell_type": "code",
   "execution_count": 6,
   "id": "7bef71f9",
   "metadata": {},
   "outputs": [
    {
     "data": {
      "text/plain": [
       "Yakup    50\n",
       "Burak    40\n",
       "Ahmet    30\n",
       "dtype: int64"
      ]
     },
     "execution_count": 6,
     "metadata": {},
     "output_type": "execute_result"
    }
   ],
   "source": [
    "pd.Series(yaslar,isimler)"
   ]
  },
  {
   "cell_type": "code",
   "execution_count": 7,
   "id": "ab67677d",
   "metadata": {},
   "outputs": [
    {
     "data": {
      "text/plain": [
       "Yakup    50\n",
       "Burak    40\n",
       "Ahmet    30\n",
       "dtype: int64"
      ]
     },
     "execution_count": 7,
     "metadata": {},
     "output_type": "execute_result"
    }
   ],
   "source": [
    "pd.Series(data=yaslar,index=isimler)"
   ]
  },
  {
   "cell_type": "code",
   "execution_count": 8,
   "id": "de8ea1e3",
   "metadata": {},
   "outputs": [],
   "source": [
    "numpyDizisi=np.array([20,25,30])"
   ]
  },
  {
   "cell_type": "code",
   "execution_count": 9,
   "id": "2ab7986f",
   "metadata": {},
   "outputs": [
    {
     "data": {
      "text/plain": [
       "0    20\n",
       "1    25\n",
       "2    30\n",
       "dtype: int32"
      ]
     },
     "execution_count": 9,
     "metadata": {},
     "output_type": "execute_result"
    }
   ],
   "source": [
    "pd.Series(numpyDizisi)"
   ]
  },
  {
   "cell_type": "code",
   "execution_count": 10,
   "id": "fa63b563",
   "metadata": {},
   "outputs": [
    {
     "data": {
      "text/plain": [
       "Yakup    20\n",
       "Burak    25\n",
       "Ahmet    30\n",
       "dtype: int32"
      ]
     },
     "execution_count": 10,
     "metadata": {},
     "output_type": "execute_result"
    }
   ],
   "source": [
    "pd.Series(numpyDizisi,isimler)"
   ]
  },
  {
   "cell_type": "code",
   "execution_count": 11,
   "id": "0327ea4d",
   "metadata": {},
   "outputs": [
    {
     "data": {
      "text/plain": [
       "1    Yakup\n",
       "2    Yusuf\n",
       "3    Yunus\n",
       "dtype: object"
      ]
     },
     "execution_count": 11,
     "metadata": {},
     "output_type": "execute_result"
    }
   ],
   "source": [
    "pd.Series([\"Yakup\",\"Yusuf\",\"Yunus\"],[1,2,3])"
   ]
  },
  {
   "cell_type": "code",
   "execution_count": 12,
   "id": "2e8a1cb6",
   "metadata": {},
   "outputs": [],
   "source": [
    "yarismaSonucu=pd.Series([10,20,30],[\"Yusuf\",\"Yunus\",\"Yakup\"])"
   ]
  },
  {
   "cell_type": "code",
   "execution_count": 13,
   "id": "14aa3084",
   "metadata": {},
   "outputs": [
    {
     "data": {
      "text/plain": [
       "Yusuf    10\n",
       "Yunus    20\n",
       "Yakup    30\n",
       "dtype: int64"
      ]
     },
     "execution_count": 13,
     "metadata": {},
     "output_type": "execute_result"
    }
   ],
   "source": [
    "yarismaSonucu"
   ]
  },
  {
   "cell_type": "code",
   "execution_count": 14,
   "id": "bbd9c76e",
   "metadata": {},
   "outputs": [],
   "source": [
    "yarismaSonucu2=pd.Series([50,60,70],[\"Yusuf\",\"Yunus\",\"Yakup\"])"
   ]
  },
  {
   "cell_type": "code",
   "execution_count": 15,
   "id": "f8176244",
   "metadata": {},
   "outputs": [
    {
     "data": {
      "text/plain": [
       "70"
      ]
     },
     "execution_count": 15,
     "metadata": {},
     "output_type": "execute_result"
    }
   ],
   "source": [
    "yarismaSonucu2[\"Yakup\"]"
   ]
  },
  {
   "cell_type": "code",
   "execution_count": 16,
   "id": "20b1834a",
   "metadata": {},
   "outputs": [],
   "source": [
    "sonuc=yarismaSonucu+yarismaSonucu2"
   ]
  },
  {
   "cell_type": "code",
   "execution_count": 17,
   "id": "c0c9ac02",
   "metadata": {},
   "outputs": [
    {
     "data": {
      "text/plain": [
       "Yusuf     60\n",
       "Yunus     80\n",
       "Yakup    100\n",
       "dtype: int64"
      ]
     },
     "execution_count": 17,
     "metadata": {},
     "output_type": "execute_result"
    }
   ],
   "source": [
    "sonuc"
   ]
  },
  {
   "cell_type": "code",
   "execution_count": 18,
   "id": "be112120",
   "metadata": {},
   "outputs": [],
   "source": [
    "farkliSeries=pd.Series([20,30,40,50],[\"a\",\"b\",\"c\",\"d\"])"
   ]
  },
  {
   "cell_type": "code",
   "execution_count": 19,
   "id": "e239654f",
   "metadata": {},
   "outputs": [],
   "source": [
    "farkliSeries2=pd.Series([60,70,80,90],[\"a\",\"c\",\"f\",\"g\"])"
   ]
  },
  {
   "cell_type": "code",
   "execution_count": 20,
   "id": "b7bf5236",
   "metadata": {},
   "outputs": [
    {
     "data": {
      "text/plain": [
       "a     80.0\n",
       "b      NaN\n",
       "c    110.0\n",
       "d      NaN\n",
       "f      NaN\n",
       "g      NaN\n",
       "dtype: float64"
      ]
     },
     "execution_count": 20,
     "metadata": {},
     "output_type": "execute_result"
    }
   ],
   "source": [
    "farkliSeries+farkliSeries2"
   ]
  },
  {
   "cell_type": "code",
   "execution_count": null,
   "id": "f5b22a6e",
   "metadata": {},
   "outputs": [],
   "source": []
  }
 ],
 "metadata": {
  "kernelspec": {
   "display_name": "Python 3",
   "language": "python",
   "name": "python3"
  },
  "language_info": {
   "codemirror_mode": {
    "name": "ipython",
    "version": 3
   },
   "file_extension": ".py",
   "mimetype": "text/x-python",
   "name": "python",
   "nbconvert_exporter": "python",
   "pygments_lexer": "ipython3",
   "version": "3.8.8"
  }
 },
 "nbformat": 4,
 "nbformat_minor": 5
}
